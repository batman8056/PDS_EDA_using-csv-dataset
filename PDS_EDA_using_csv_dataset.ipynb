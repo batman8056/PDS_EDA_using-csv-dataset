{
  "cells": [
    {
      "cell_type": "markdown",
      "metadata": {
        "id": "ZLyziMG5K-W8"
      },
      "source": [
        "<table align=\"center\" width=100%>\n",
        "    <tr>\n",
        "        <td width=\"15%\">\n",
        "            <img src=\"homework.png\">\n",
        "        </td>\n",
        "        <td>\n",
        "            <div align=\"center\">\n",
        "                <font color=\"#21618C\" size=8px>\n",
        "                    <b> PDS <br>(Mini Project)\n",
        "                    </b>\n",
        "                </font>\n",
        "            </div>\n",
        "        </td>\n",
        "    </tr>\n",
        "</table>"
      ]
    },
    {
      "cell_type": "markdown",
      "metadata": {
        "id": "VjswV8EMLQ5s"
      },
      "source": [
        "# **Exploratory Data Analysis**\n",
        "# **Course Title:** Python for Data Science                       ."
      ]
    },
    {
      "cell_type": "code",
      "execution_count": 1,
      "metadata": {
        "id": "SuLF60mSJ0c9"
      },
      "outputs": [
        {
          "ename": "ModuleNotFoundError",
          "evalue": "No module named 'pandas'",
          "output_type": "error",
          "traceback": [
            "\u001b[1;31m---------------------------------------------------------------------------\u001b[0m",
            "\u001b[1;31mModuleNotFoundError\u001b[0m                       Traceback (most recent call last)",
            "Cell \u001b[1;32mIn[1], line 2\u001b[0m\n\u001b[0;32m      1\u001b[0m \u001b[38;5;66;03m#import all the necessary package#\u001b[39;00m\n\u001b[1;32m----> 2\u001b[0m \u001b[38;5;28;01mimport\u001b[39;00m \u001b[38;5;21;01mpandas\u001b[39;00m \u001b[38;5;28;01mas\u001b[39;00m \u001b[38;5;21;01mpd\u001b[39;00m\n",
            "\u001b[1;31mModuleNotFoundError\u001b[0m: No module named 'pandas'"
          ]
        }
      ],
      "source": [
        "#import all the necessary package#\n",
        "import pandas as pd"
      ]
    },
    {
      "cell_type": "markdown",
      "metadata": {
        "id": "GVcDWICu9-sb"
      },
      "source": [
        "# **I. Read the Dataset ‘modifiedfifa.csv' and answer the following questions. (15 marks)**"
      ]
    },
    {
      "cell_type": "code",
      "execution_count": null,
      "metadata": {
        "colab": {
          "base_uri": "https://localhost:8080/",
          "height": 275
        },
        "id": "6kBLe-Bt-ZN6",
        "outputId": "64f03dcf-c7d3-4cab-d342-4712a1a34adf"
      },
      "outputs": [
        {
          "data": {
            "text/html": [
              "\n",
              "  <div id=\"df-7761f0d0-611b-43e0-8d1e-4d26fcd20d49\">\n",
              "    <div class=\"colab-df-container\">\n",
              "      <div>\n",
              "<style scoped>\n",
              "    .dataframe tbody tr th:only-of-type {\n",
              "        vertical-align: middle;\n",
              "    }\n",
              "\n",
              "    .dataframe tbody tr th {\n",
              "        vertical-align: top;\n",
              "    }\n",
              "\n",
              "    .dataframe thead th {\n",
              "        text-align: right;\n",
              "    }\n",
              "</style>\n",
              "<table border=\"1\" class=\"dataframe\">\n",
              "  <thead>\n",
              "    <tr style=\"text-align: right;\">\n",
              "      <th></th>\n",
              "      <th>Unnamed: 0</th>\n",
              "      <th>ID</th>\n",
              "      <th>Name</th>\n",
              "      <th>Age</th>\n",
              "      <th>Nationality</th>\n",
              "      <th>Overall</th>\n",
              "      <th>Potential</th>\n",
              "      <th>Club</th>\n",
              "      <th>Value</th>\n",
              "      <th>Wage</th>\n",
              "      <th>...</th>\n",
              "      <th>Skill Moves</th>\n",
              "      <th>Work Rate</th>\n",
              "      <th>Body Type</th>\n",
              "      <th>Real Face</th>\n",
              "      <th>Position</th>\n",
              "      <th>Jersey Number</th>\n",
              "      <th>Joined</th>\n",
              "      <th>Contract Valid Until</th>\n",
              "      <th>Height</th>\n",
              "      <th>Weight</th>\n",
              "    </tr>\n",
              "  </thead>\n",
              "  <tbody>\n",
              "    <tr>\n",
              "      <th>0</th>\n",
              "      <td>0</td>\n",
              "      <td>16</td>\n",
              "      <td>Luis Garc¡a</td>\n",
              "      <td>37</td>\n",
              "      <td>Spain</td>\n",
              "      <td>71</td>\n",
              "      <td>71</td>\n",
              "      <td>KAS Eupen</td>\n",
              "      <td>750.0</td>\n",
              "      <td>?6K</td>\n",
              "      <td>...</td>\n",
              "      <td>3.0</td>\n",
              "      <td>Medium/ Medium</td>\n",
              "      <td>Lean</td>\n",
              "      <td>No</td>\n",
              "      <td>RCM</td>\n",
              "      <td>10.0</td>\n",
              "      <td>19-Jul-14</td>\n",
              "      <td>2019</td>\n",
              "      <td>70</td>\n",
              "      <td>143</td>\n",
              "    </tr>\n",
              "    <tr>\n",
              "      <th>1</th>\n",
              "      <td>1</td>\n",
              "      <td>41</td>\n",
              "      <td>Iniesta</td>\n",
              "      <td>34</td>\n",
              "      <td>Spain</td>\n",
              "      <td>86</td>\n",
              "      <td>86</td>\n",
              "      <td>Vissel Kobe</td>\n",
              "      <td>21500.0</td>\n",
              "      <td>?21K</td>\n",
              "      <td>...</td>\n",
              "      <td>4.0</td>\n",
              "      <td>High/ Medium</td>\n",
              "      <td>Normal</td>\n",
              "      <td>Yes</td>\n",
              "      <td>LF</td>\n",
              "      <td>8.0</td>\n",
              "      <td>16-Jul-18</td>\n",
              "      <td>2021</td>\n",
              "      <td>67</td>\n",
              "      <td>150</td>\n",
              "    </tr>\n",
              "  </tbody>\n",
              "</table>\n",
              "<p>2 rows × 24 columns</p>\n",
              "</div>\n",
              "      <button class=\"colab-df-convert\" onclick=\"convertToInteractive('df-7761f0d0-611b-43e0-8d1e-4d26fcd20d49')\"\n",
              "              title=\"Convert this dataframe to an interactive table.\"\n",
              "              style=\"display:none;\">\n",
              "        \n",
              "  <svg xmlns=\"http://www.w3.org/2000/svg\" height=\"24px\"viewBox=\"0 0 24 24\"\n",
              "       width=\"24px\">\n",
              "    <path d=\"M0 0h24v24H0V0z\" fill=\"none\"/>\n",
              "    <path d=\"M18.56 5.44l.94 2.06.94-2.06 2.06-.94-2.06-.94-.94-2.06-.94 2.06-2.06.94zm-11 1L8.5 8.5l.94-2.06 2.06-.94-2.06-.94L8.5 2.5l-.94 2.06-2.06.94zm10 10l.94 2.06.94-2.06 2.06-.94-2.06-.94-.94-2.06-.94 2.06-2.06.94z\"/><path d=\"M17.41 7.96l-1.37-1.37c-.4-.4-.92-.59-1.43-.59-.52 0-1.04.2-1.43.59L10.3 9.45l-7.72 7.72c-.78.78-.78 2.05 0 2.83L4 21.41c.39.39.9.59 1.41.59.51 0 1.02-.2 1.41-.59l7.78-7.78 2.81-2.81c.8-.78.8-2.07 0-2.86zM5.41 20L4 18.59l7.72-7.72 1.47 1.35L5.41 20z\"/>\n",
              "  </svg>\n",
              "      </button>\n",
              "      \n",
              "  <style>\n",
              "    .colab-df-container {\n",
              "      display:flex;\n",
              "      flex-wrap:wrap;\n",
              "      gap: 12px;\n",
              "    }\n",
              "\n",
              "    .colab-df-convert {\n",
              "      background-color: #E8F0FE;\n",
              "      border: none;\n",
              "      border-radius: 50%;\n",
              "      cursor: pointer;\n",
              "      display: none;\n",
              "      fill: #1967D2;\n",
              "      height: 32px;\n",
              "      padding: 0 0 0 0;\n",
              "      width: 32px;\n",
              "    }\n",
              "\n",
              "    .colab-df-convert:hover {\n",
              "      background-color: #E2EBFA;\n",
              "      box-shadow: 0px 1px 2px rgba(60, 64, 67, 0.3), 0px 1px 3px 1px rgba(60, 64, 67, 0.15);\n",
              "      fill: #174EA6;\n",
              "    }\n",
              "\n",
              "    [theme=dark] .colab-df-convert {\n",
              "      background-color: #3B4455;\n",
              "      fill: #D2E3FC;\n",
              "    }\n",
              "\n",
              "    [theme=dark] .colab-df-convert:hover {\n",
              "      background-color: #434B5C;\n",
              "      box-shadow: 0px 1px 3px 1px rgba(0, 0, 0, 0.15);\n",
              "      filter: drop-shadow(0px 1px 2px rgba(0, 0, 0, 0.3));\n",
              "      fill: #FFFFFF;\n",
              "    }\n",
              "  </style>\n",
              "\n",
              "      <script>\n",
              "        const buttonEl =\n",
              "          document.querySelector('#df-7761f0d0-611b-43e0-8d1e-4d26fcd20d49 button.colab-df-convert');\n",
              "        buttonEl.style.display =\n",
              "          google.colab.kernel.accessAllowed ? 'block' : 'none';\n",
              "\n",
              "        async function convertToInteractive(key) {\n",
              "          const element = document.querySelector('#df-7761f0d0-611b-43e0-8d1e-4d26fcd20d49');\n",
              "          const dataTable =\n",
              "            await google.colab.kernel.invokeFunction('convertToInteractive',\n",
              "                                                     [key], {});\n",
              "          if (!dataTable) return;\n",
              "\n",
              "          const docLinkHtml = 'Like what you see? Visit the ' +\n",
              "            '<a target=\"_blank\" href=https://colab.research.google.com/notebooks/data_table.ipynb>data table notebook</a>'\n",
              "            + ' to learn more about interactive tables.';\n",
              "          element.innerHTML = '';\n",
              "          dataTable['output_type'] = 'display_data';\n",
              "          await google.colab.output.renderOutput(dataTable, element);\n",
              "          const docLink = document.createElement('div');\n",
              "          docLink.innerHTML = docLinkHtml;\n",
              "          element.appendChild(docLink);\n",
              "        }\n",
              "      </script>\n",
              "    </div>\n",
              "  </div>\n",
              "  "
            ],
            "text/plain": [
              "   Unnamed: 0  ID         Name  Age Nationality  Overall  Potential  \\\n",
              "0           0  16  Luis Garc¡a   37       Spain       71         71   \n",
              "1           1  41      Iniesta   34       Spain       86         86   \n",
              "\n",
              "          Club    Value  Wage  ...  Skill Moves       Work Rate  Body Type  \\\n",
              "0    KAS Eupen    750.0   ?6K  ...          3.0  Medium/ Medium       Lean   \n",
              "1  Vissel Kobe  21500.0  ?21K  ...          4.0    High/ Medium     Normal   \n",
              "\n",
              "   Real Face  Position Jersey Number     Joined Contract Valid Until Height  \\\n",
              "0         No       RCM          10.0  19-Jul-14                 2019     70   \n",
              "1        Yes        LF           8.0  16-Jul-18                 2021     67   \n",
              "\n",
              "   Weight  \n",
              "0     143  \n",
              "1     150  \n",
              "\n",
              "[2 rows x 24 columns]"
            ]
          },
          "execution_count": 18,
          "metadata": {},
          "output_type": "execute_result"
        }
      ],
      "source": [
        "df_fifa = pd.read_csv('modifiedfifa.csv')\n",
        "df_fifa_age = pd.read_csv('modifiedfifa.csv')\n",
        "df_fifa.head(2)"
      ]
    },
    {
      "cell_type": "code",
      "execution_count": null,
      "metadata": {
        "colab": {
          "base_uri": "https://localhost:8080/"
        },
        "id": "z4HIvf7MKcW1",
        "outputId": "d419905c-70ef-442c-bc4c-d204c989ba81"
      },
      "outputs": [
        {
          "data": {
            "text/plain": [
              "(15114, 24)"
            ]
          },
          "execution_count": 19,
          "metadata": {},
          "output_type": "execute_result"
        }
      ],
      "source": [
        "df_fifa.shape#(rows and column)"
      ]
    },
    {
      "cell_type": "code",
      "execution_count": null,
      "metadata": {
        "colab": {
          "base_uri": "https://localhost:8080/"
        },
        "id": "q65VMBlgSXm3",
        "outputId": "4e2724c1-7e4a-4333-bb50-fbfd2d1e46b6"
      },
      "outputs": [
        {
          "data": {
            "text/plain": [
              "Unnamed: 0                  0\n",
              "ID                          0\n",
              "Name                        0\n",
              "Age                         0\n",
              "Nationality                 0\n",
              "Overall                     0\n",
              "Potential                   0\n",
              "Club                        0\n",
              "Value                       0\n",
              "Wage                        0\n",
              "Special                     0\n",
              "Preferred Foot              0\n",
              "International Reputation    0\n",
              "Weak Foot                   0\n",
              "Skill Moves                 0\n",
              "Work Rate                   0\n",
              "Body Type                   0\n",
              "Real Face                   0\n",
              "Position                    0\n",
              "Jersey Number               0\n",
              "Joined                      0\n",
              "Contract Valid Until        0\n",
              "Height                      0\n",
              "Weight                      0\n",
              "dtype: int64"
            ]
          },
          "execution_count": 20,
          "metadata": {},
          "output_type": "execute_result"
        }
      ],
      "source": [
        "df_fifa.isnull().sum()"
      ]
    },
    {
      "cell_type": "code",
      "execution_count": null,
      "metadata": {
        "colab": {
          "base_uri": "https://localhost:8080/"
        },
        "id": "n9GNMNEAQBHo",
        "outputId": "95518a3b-f622-4bbd-9416-1e9b4ad210cb"
      },
      "outputs": [
        {
          "name": "stdout",
          "output_type": "stream",
          "text": [
            "<class 'pandas.core.frame.DataFrame'>\n",
            "RangeIndex: 15114 entries, 0 to 15113\n",
            "Data columns (total 24 columns):\n",
            " #   Column                    Non-Null Count  Dtype  \n",
            "---  ------                    --------------  -----  \n",
            " 0   Unnamed: 0                15114 non-null  int64  \n",
            " 1   ID                        15114 non-null  int64  \n",
            " 2   Name                      15114 non-null  object \n",
            " 3   Age                       15114 non-null  int64  \n",
            " 4   Nationality               15114 non-null  object \n",
            " 5   Overall                   15114 non-null  int64  \n",
            " 6   Potential                 15114 non-null  int64  \n",
            " 7   Club                      15114 non-null  object \n",
            " 8   Value                     15114 non-null  float64\n",
            " 9   Wage                      15114 non-null  object \n",
            " 10  Special                   15114 non-null  int64  \n",
            " 11  Preferred Foot            15114 non-null  object \n",
            " 12  International Reputation  15114 non-null  float64\n",
            " 13  Weak Foot                 15114 non-null  float64\n",
            " 14  Skill Moves               15114 non-null  float64\n",
            " 15  Work Rate                 15114 non-null  object \n",
            " 16  Body Type                 15114 non-null  object \n",
            " 17  Real Face                 15114 non-null  object \n",
            " 18  Position                  15114 non-null  object \n",
            " 19  Jersey Number             15114 non-null  float64\n",
            " 20  Joined                    15114 non-null  object \n",
            " 21  Contract Valid Until      15114 non-null  int64  \n",
            " 22  Height                    15114 non-null  int64  \n",
            " 23  Weight                    15114 non-null  int64  \n",
            "dtypes: float64(5), int64(9), object(10)\n",
            "memory usage: 2.8+ MB\n"
          ]
        }
      ],
      "source": [
        "df_fifa.info()#"
      ]
    },
    {
      "cell_type": "markdown",
      "metadata": {
        "id": "BRM1o2CO-I5i"
      },
      "source": [
        "1.1\tFind how many different countries players data is included in the dataset"
      ]
    },
    {
      "cell_type": "code",
      "execution_count": null,
      "metadata": {
        "colab": {
          "base_uri": "https://localhost:8080/"
        },
        "id": "beEsZyE_UijW",
        "outputId": "719338ba-59e3-4098-f55a-03d72bcff253"
      },
      "outputs": [
        {
          "data": {
            "text/plain": [
              "0"
            ]
          },
          "execution_count": 22,
          "metadata": {},
          "output_type": "execute_result"
        }
      ],
      "source": [
        "df_fifa['Nationality'].isnull().sum()"
      ]
    },
    {
      "cell_type": "code",
      "execution_count": null,
      "metadata": {
        "colab": {
          "base_uri": "https://localhost:8080/"
        },
        "id": "HOm8Oi4MQmK7",
        "outputId": "5ea1fe5d-88a3-4b53-9206-529c7918dadb"
      },
      "outputs": [
        {
          "data": {
            "text/plain": [
              "15114"
            ]
          },
          "execution_count": 23,
          "metadata": {},
          "output_type": "execute_result"
        }
      ],
      "source": [
        "df_fifa['Nationality'].value_counts().sum()#"
      ]
    },
    {
      "cell_type": "code",
      "execution_count": null,
      "metadata": {
        "colab": {
          "base_uri": "https://localhost:8080/"
        },
        "id": "HFjrwTqOQxJZ",
        "outputId": "3ab3419b-2d49-4343-811c-cae32040f9fc"
      },
      "outputs": [
        {
          "data": {
            "text/plain": [
              "array(['Spain', 'Turkey', 'Italy', 'Wales', 'Netherlands', 'England',\n",
              "       'Portugal', 'France', 'Sweden', 'Scotland', 'Republic of Ireland',\n",
              "       'Austria', 'Argentina', 'United States', 'Switzerland', 'Chile',\n",
              "       'Peru', 'Japan', 'Germany', 'Belgium', 'Czech Republic', 'Norway',\n",
              "       'Algeria', 'Denmark', 'Trinidad & Tobago', 'Northern Ireland',\n",
              "       'Togo', 'Finland', 'Poland', 'Canada', 'Tunisia', 'Cameroon',\n",
              "       'Ivory Coast', 'Iceland', 'Brazil', 'Jamaica', 'Korea Republic',\n",
              "       'FYR Macedonia', 'El Salvador', 'Morocco', 'Australia', 'Mexico',\n",
              "       'Slovenia', 'Madagascar', 'China PR', 'Croatia', 'Estonia',\n",
              "       'Greece', 'Ukraine', 'Angola', 'Bosnia Herzegovina', 'Nigeria',\n",
              "       'Russia', 'Oman', 'DR Congo', 'Paraguay', 'Ethiopia', 'Romania',\n",
              "       'Egypt', 'Colombia', 'Kosovo', 'Ghana', 'Burkina Faso', 'Uruguay',\n",
              "       'Slovakia', 'Venezuela', 'Barbados', 'Israel', 'Cyprus', 'Haiti',\n",
              "       'Guyana', 'Serbia', 'Ecuador', 'Senegal', 'Eritrea', 'Palestine',\n",
              "       'Saudi Arabia', 'Guinea', 'New Zealand', 'Albania', 'Latvia',\n",
              "       'Gabon', 'Sierra Leone', 'Armenia', 'Lithuania', 'Azerbaijan',\n",
              "       'Bulgaria', 'Mali', 'Hungary', 'South Africa', 'Montenegro',\n",
              "       'Korea DPR', 'Gambia', 'Uzbekistan', 'Moldova', 'Congo',\n",
              "       'Kazakhstan', 'Comoros', 'Cape Verde', 'Montserrat', 'Georgia',\n",
              "       'Belarus', 'Benin', 'Honduras', 'Niger', 'Luxembourg', 'Kenya',\n",
              "       'Curacao', 'Zimbabwe', 'Iran', 'Zambia', 'Iraq', 'Costa Rica',\n",
              "       'Guam', 'Cuba', 'St Kitts Nevis', 'Andorra', 'Philippines',\n",
              "       'Suriname', 'Thailand', 'Bermuda', 'Guinea Bissau',\n",
              "       'Faroe Islands', 'Fiji', 'Mozambique', 'Bolivia', 'Panama',\n",
              "       'Antigua & Barbuda', 'Liechtenstein', 'Mauritius', 'New Caledonia',\n",
              "       'Equatorial Guinea', 'Guatemala', 'Central African Rep.', 'Libya',\n",
              "       'Grenada', 'Burundi', 'S?o Tom\\x82 & Pr¡ncipe', 'Syria', 'Uganda',\n",
              "       'Lebanon', 'Namibia', 'Tanzania', 'Kuwait', 'Afghanistan',\n",
              "       'Jordan', 'Chad', 'Belize', 'Sudan', 'Botswana', 'Hong Kong',\n",
              "       'South Sudan', 'Dominican Republic', 'Rwanda', 'Mauritania',\n",
              "       'Indonesia', 'Nicaragua', 'United Arab Emirates', 'Qatar'],\n",
              "      dtype=object)"
            ]
          },
          "execution_count": 24,
          "metadata": {},
          "output_type": "execute_result"
        }
      ],
      "source": [
        "df_fifa['Nationality'].unique()#"
      ]
    },
    {
      "cell_type": "code",
      "execution_count": null,
      "metadata": {
        "colab": {
          "base_uri": "https://localhost:8080/"
        },
        "id": "qR5JxxAP9UFm",
        "outputId": "10f97663-34a4-4893-dd7b-bf74f04cd2f5"
      },
      "outputs": [
        {
          "data": {
            "text/plain": [
              "England      1269\n",
              "Germany      1106\n",
              "Spain         887\n",
              "France        808\n",
              "Argentina     707\n",
              "             ... \n",
              "Andorra         1\n",
              "Guam            1\n",
              "Ethiopia        1\n",
              "Palestine       1\n",
              "Qatar           1\n",
              "Name: Nationality, Length: 159, dtype: int64"
            ]
          },
          "execution_count": 25,
          "metadata": {},
          "output_type": "execute_result"
        }
      ],
      "source": [
        "df_fifa['Nationality'].value_counts()#"
      ]
    },
    {
      "cell_type": "markdown",
      "metadata": {
        "id": "GZMcwOVNLwFl"
      },
      "source": [
        "1.2 Find out highest Valued player from the dataset"
      ]
    },
    {
      "cell_type": "code",
      "execution_count": null,
      "metadata": {
        "colab": {
          "base_uri": "https://localhost:8080/"
        },
        "id": "ZLHIn1jsL5fU",
        "outputId": "b10d6e3f-4f1d-419b-a3dd-c52837e99d9a"
      },
      "outputs": [
        {
          "data": {
            "text/plain": [
              "118500.0"
            ]
          },
          "execution_count": 26,
          "metadata": {},
          "output_type": "execute_result"
        }
      ],
      "source": [
        "df_fifa_player=df_fifa['Value'].max()\n",
        "df_fifa_player"
      ]
    },
    {
      "cell_type": "code",
      "execution_count": null,
      "metadata": {
        "colab": {
          "base_uri": "https://localhost:8080/"
        },
        "id": "aspQ2n4OL1Dr",
        "outputId": "f58fa8dc-25e0-4044-8b18-1551178b8766"
      },
      "outputs": [
        {
          "data": {
            "text/plain": [
              "2795    Neymar Jr\n",
              "Name: Name, dtype: object"
            ]
          },
          "execution_count": 27,
          "metadata": {},
          "output_type": "execute_result"
        }
      ],
      "source": [
        "df_fifa.loc[df_fifa['Value']==df_fifa_player,'Name']"
      ]
    },
    {
      "cell_type": "markdown",
      "metadata": {
        "id": "E831DmtjMB-j"
      },
      "source": [
        "1.3 Find which country 's players data is maximum in the dataset and what’s is the count of it"
      ]
    },
    {
      "cell_type": "code",
      "execution_count": null,
      "metadata": {
        "colab": {
          "base_uri": "https://localhost:8080/"
        },
        "id": "kdaFaQWNL6Vs",
        "outputId": "7b6562df-b017-4042-8bf7-5f3dbb1ef6ae"
      },
      "outputs": [
        {
          "data": {
            "text/plain": [
              "England        1269\n",
              "Germany        1106\n",
              "Spain           887\n",
              "France          808\n",
              "Argentina       707\n",
              "Brazil          689\n",
              "Italy           559\n",
              "Japan           422\n",
              "Netherlands     420\n",
              "Colombia        416\n",
              "Name: Nationality, dtype: int64"
            ]
          },
          "execution_count": 28,
          "metadata": {},
          "output_type": "execute_result"
        }
      ],
      "source": [
        "df_fifa['Nationality'].value_counts().head(10)"
      ]
    },
    {
      "cell_type": "markdown",
      "metadata": {
        "id": "tPcu0j5DMQjs"
      },
      "source": [
        "1.4 Display top 10 clubs ordered by sum of all player’s current market value of that club"
      ]
    },
    {
      "cell_type": "code",
      "execution_count": null,
      "metadata": {
        "id": "6EdkJTXKMaG7"
      },
      "outputs": [],
      "source": [
        "value_club=df_fifa.sort_values (by='Value', ascending=False)"
      ]
    },
    {
      "cell_type": "code",
      "execution_count": null,
      "metadata": {
        "colab": {
          "base_uri": "https://localhost:8080/"
        },
        "id": "Vjej0LDmM-Bo",
        "outputId": "869f1879-8552-4f42-8a5e-35604f343d13"
      },
      "outputs": [
        {
          "data": {
            "text/plain": [
              "2795    Paris Saint-Germain\n",
              "619            FC Barcelona\n",
              "3075        Manchester City\n",
              "1818                Chelsea\n",
              "5823               Juventus\n",
              "               ...         \n",
              "118        Cambridge United\n",
              "51             J£bilo Iwata\n",
              "131             Yeovil Town\n",
              "10             ESTAC Troyes\n",
              "6512    Jaguares de C¢rdoba\n",
              "Name: Club, Length: 15114, dtype: object"
            ]
          },
          "execution_count": 30,
          "metadata": {},
          "output_type": "execute_result"
        }
      ],
      "source": [
        "value_club['Club']"
      ]
    },
    {
      "cell_type": "markdown",
      "metadata": {
        "id": "AP6PNBsHMVeL"
      },
      "source": [
        "1.5 Count the number of players having International Reputation ratings = 4 from the clubs 'Real Madrid’ and ‘FC Barcelona’"
      ]
    },
    {
      "cell_type": "code",
      "execution_count": null,
      "metadata": {
        "colab": {
          "base_uri": "https://localhost:8080/",
          "height": 421
        },
        "id": "svbBOBxPMaua",
        "outputId": "34e30be9-8751-47ae-b3e1-ede499bd2ae7"
      },
      "outputs": [
        {
          "data": {
            "text/html": [
              "\n",
              "  <div id=\"df-a202f70d-7fa8-4c40-9fc6-f9629f067fb2\">\n",
              "    <div class=\"colab-df-container\">\n",
              "      <div>\n",
              "<style scoped>\n",
              "    .dataframe tbody tr th:only-of-type {\n",
              "        vertical-align: middle;\n",
              "    }\n",
              "\n",
              "    .dataframe tbody tr th {\n",
              "        vertical-align: top;\n",
              "    }\n",
              "\n",
              "    .dataframe thead th {\n",
              "        text-align: right;\n",
              "    }\n",
              "</style>\n",
              "<table border=\"1\" class=\"dataframe\">\n",
              "  <thead>\n",
              "    <tr style=\"text-align: right;\">\n",
              "      <th></th>\n",
              "      <th>Unnamed: 0</th>\n",
              "      <th>ID</th>\n",
              "      <th>Name</th>\n",
              "      <th>Age</th>\n",
              "      <th>Nationality</th>\n",
              "      <th>Overall</th>\n",
              "      <th>Potential</th>\n",
              "      <th>Club</th>\n",
              "      <th>Value</th>\n",
              "      <th>Wage</th>\n",
              "      <th>...</th>\n",
              "      <th>Skill Moves</th>\n",
              "      <th>Work Rate</th>\n",
              "      <th>Body Type</th>\n",
              "      <th>Real Face</th>\n",
              "      <th>Position</th>\n",
              "      <th>Jersey Number</th>\n",
              "      <th>Joined</th>\n",
              "      <th>Contract Valid Until</th>\n",
              "      <th>Height</th>\n",
              "      <th>Weight</th>\n",
              "    </tr>\n",
              "  </thead>\n",
              "  <tbody>\n",
              "    <tr>\n",
              "      <th>487</th>\n",
              "      <td>487</td>\n",
              "      <td>152729</td>\n",
              "      <td>Piqu</td>\n",
              "      <td>31</td>\n",
              "      <td>Spain</td>\n",
              "      <td>87</td>\n",
              "      <td>87</td>\n",
              "      <td>FC Barcelona</td>\n",
              "      <td>34000.0</td>\n",
              "      <td>?240K</td>\n",
              "      <td>...</td>\n",
              "      <td>2.0</td>\n",
              "      <td>High/ Medium</td>\n",
              "      <td>Normal</td>\n",
              "      <td>Yes</td>\n",
              "      <td>RCB</td>\n",
              "      <td>3.0</td>\n",
              "      <td>1-Jul-08</td>\n",
              "      <td>2022</td>\n",
              "      <td>76</td>\n",
              "      <td>187</td>\n",
              "    </tr>\n",
              "    <tr>\n",
              "      <th>549</th>\n",
              "      <td>549</td>\n",
              "      <td>155862</td>\n",
              "      <td>Sergio Ramos</td>\n",
              "      <td>32</td>\n",
              "      <td>Spain</td>\n",
              "      <td>91</td>\n",
              "      <td>91</td>\n",
              "      <td>Real Madrid</td>\n",
              "      <td>51000.0</td>\n",
              "      <td>?380K</td>\n",
              "      <td>...</td>\n",
              "      <td>3.0</td>\n",
              "      <td>High/ Medium</td>\n",
              "      <td>Normal</td>\n",
              "      <td>Yes</td>\n",
              "      <td>RCB</td>\n",
              "      <td>15.0</td>\n",
              "      <td>1-Aug-05</td>\n",
              "      <td>2020</td>\n",
              "      <td>72</td>\n",
              "      <td>181</td>\n",
              "    </tr>\n",
              "    <tr>\n",
              "      <th>597</th>\n",
              "      <td>597</td>\n",
              "      <td>157304</td>\n",
              "      <td>T. Vermaelen</td>\n",
              "      <td>32</td>\n",
              "      <td>Belgium</td>\n",
              "      <td>77</td>\n",
              "      <td>77</td>\n",
              "      <td>FC Barcelona</td>\n",
              "      <td>5000.0</td>\n",
              "      <td>?110K</td>\n",
              "      <td>...</td>\n",
              "      <td>2.0</td>\n",
              "      <td>High/ Medium</td>\n",
              "      <td>Normal</td>\n",
              "      <td>Yes</td>\n",
              "      <td>CB</td>\n",
              "      <td>3.0</td>\n",
              "      <td>9-Aug-14</td>\n",
              "      <td>2019</td>\n",
              "      <td>72</td>\n",
              "      <td>176</td>\n",
              "    </tr>\n",
              "    <tr>\n",
              "      <th>619</th>\n",
              "      <td>619</td>\n",
              "      <td>158023</td>\n",
              "      <td>L. Messi</td>\n",
              "      <td>31</td>\n",
              "      <td>Argentina</td>\n",
              "      <td>94</td>\n",
              "      <td>94</td>\n",
              "      <td>FC Barcelona</td>\n",
              "      <td>110500.0</td>\n",
              "      <td>?565K</td>\n",
              "      <td>...</td>\n",
              "      <td>4.0</td>\n",
              "      <td>Medium/ Medium</td>\n",
              "      <td>Messi</td>\n",
              "      <td>Yes</td>\n",
              "      <td>RF</td>\n",
              "      <td>10.0</td>\n",
              "      <td>1-Jul-04</td>\n",
              "      <td>2021</td>\n",
              "      <td>67</td>\n",
              "      <td>159</td>\n",
              "    </tr>\n",
              "    <tr>\n",
              "      <th>848</th>\n",
              "      <td>848</td>\n",
              "      <td>165153</td>\n",
              "      <td>K. Benzema</td>\n",
              "      <td>30</td>\n",
              "      <td>France</td>\n",
              "      <td>85</td>\n",
              "      <td>85</td>\n",
              "      <td>Real Madrid</td>\n",
              "      <td>37000.0</td>\n",
              "      <td>?240K</td>\n",
              "      <td>...</td>\n",
              "      <td>4.0</td>\n",
              "      <td>Medium/ Low</td>\n",
              "      <td>Normal</td>\n",
              "      <td>Yes</td>\n",
              "      <td>ST</td>\n",
              "      <td>9.0</td>\n",
              "      <td>9-Jul-09</td>\n",
              "      <td>2021</td>\n",
              "      <td>73</td>\n",
              "      <td>179</td>\n",
              "    </tr>\n",
              "  </tbody>\n",
              "</table>\n",
              "<p>5 rows × 24 columns</p>\n",
              "</div>\n",
              "      <button class=\"colab-df-convert\" onclick=\"convertToInteractive('df-a202f70d-7fa8-4c40-9fc6-f9629f067fb2')\"\n",
              "              title=\"Convert this dataframe to an interactive table.\"\n",
              "              style=\"display:none;\">\n",
              "        \n",
              "  <svg xmlns=\"http://www.w3.org/2000/svg\" height=\"24px\"viewBox=\"0 0 24 24\"\n",
              "       width=\"24px\">\n",
              "    <path d=\"M0 0h24v24H0V0z\" fill=\"none\"/>\n",
              "    <path d=\"M18.56 5.44l.94 2.06.94-2.06 2.06-.94-2.06-.94-.94-2.06-.94 2.06-2.06.94zm-11 1L8.5 8.5l.94-2.06 2.06-.94-2.06-.94L8.5 2.5l-.94 2.06-2.06.94zm10 10l.94 2.06.94-2.06 2.06-.94-2.06-.94-.94-2.06-.94 2.06-2.06.94z\"/><path d=\"M17.41 7.96l-1.37-1.37c-.4-.4-.92-.59-1.43-.59-.52 0-1.04.2-1.43.59L10.3 9.45l-7.72 7.72c-.78.78-.78 2.05 0 2.83L4 21.41c.39.39.9.59 1.41.59.51 0 1.02-.2 1.41-.59l7.78-7.78 2.81-2.81c.8-.78.8-2.07 0-2.86zM5.41 20L4 18.59l7.72-7.72 1.47 1.35L5.41 20z\"/>\n",
              "  </svg>\n",
              "      </button>\n",
              "      \n",
              "  <style>\n",
              "    .colab-df-container {\n",
              "      display:flex;\n",
              "      flex-wrap:wrap;\n",
              "      gap: 12px;\n",
              "    }\n",
              "\n",
              "    .colab-df-convert {\n",
              "      background-color: #E8F0FE;\n",
              "      border: none;\n",
              "      border-radius: 50%;\n",
              "      cursor: pointer;\n",
              "      display: none;\n",
              "      fill: #1967D2;\n",
              "      height: 32px;\n",
              "      padding: 0 0 0 0;\n",
              "      width: 32px;\n",
              "    }\n",
              "\n",
              "    .colab-df-convert:hover {\n",
              "      background-color: #E2EBFA;\n",
              "      box-shadow: 0px 1px 2px rgba(60, 64, 67, 0.3), 0px 1px 3px 1px rgba(60, 64, 67, 0.15);\n",
              "      fill: #174EA6;\n",
              "    }\n",
              "\n",
              "    [theme=dark] .colab-df-convert {\n",
              "      background-color: #3B4455;\n",
              "      fill: #D2E3FC;\n",
              "    }\n",
              "\n",
              "    [theme=dark] .colab-df-convert:hover {\n",
              "      background-color: #434B5C;\n",
              "      box-shadow: 0px 1px 3px 1px rgba(0, 0, 0, 0.15);\n",
              "      filter: drop-shadow(0px 1px 2px rgba(0, 0, 0, 0.3));\n",
              "      fill: #FFFFFF;\n",
              "    }\n",
              "  </style>\n",
              "\n",
              "      <script>\n",
              "        const buttonEl =\n",
              "          document.querySelector('#df-a202f70d-7fa8-4c40-9fc6-f9629f067fb2 button.colab-df-convert');\n",
              "        buttonEl.style.display =\n",
              "          google.colab.kernel.accessAllowed ? 'block' : 'none';\n",
              "\n",
              "        async function convertToInteractive(key) {\n",
              "          const element = document.querySelector('#df-a202f70d-7fa8-4c40-9fc6-f9629f067fb2');\n",
              "          const dataTable =\n",
              "            await google.colab.kernel.invokeFunction('convertToInteractive',\n",
              "                                                     [key], {});\n",
              "          if (!dataTable) return;\n",
              "\n",
              "          const docLinkHtml = 'Like what you see? Visit the ' +\n",
              "            '<a target=\"_blank\" href=https://colab.research.google.com/notebooks/data_table.ipynb>data table notebook</a>'\n",
              "            + ' to learn more about interactive tables.';\n",
              "          element.innerHTML = '';\n",
              "          dataTable['output_type'] = 'display_data';\n",
              "          await google.colab.output.renderOutput(dataTable, element);\n",
              "          const docLink = document.createElement('div');\n",
              "          docLink.innerHTML = docLinkHtml;\n",
              "          element.appendChild(docLink);\n",
              "        }\n",
              "      </script>\n",
              "    </div>\n",
              "  </div>\n",
              "  "
            ],
            "text/plain": [
              "     Unnamed: 0      ID          Name  Age Nationality  Overall  Potential  \\\n",
              "487         487  152729         Piqu   31       Spain       87         87   \n",
              "549         549  155862  Sergio Ramos   32       Spain       91         91   \n",
              "597         597  157304  T. Vermaelen   32     Belgium       77         77   \n",
              "619         619  158023      L. Messi   31   Argentina       94         94   \n",
              "848         848  165153    K. Benzema   30      France       85         85   \n",
              "\n",
              "             Club     Value   Wage  ...  Skill Moves       Work Rate  \\\n",
              "487  FC Barcelona   34000.0  ?240K  ...          2.0    High/ Medium   \n",
              "549   Real Madrid   51000.0  ?380K  ...          3.0    High/ Medium   \n",
              "597  FC Barcelona    5000.0  ?110K  ...          2.0    High/ Medium   \n",
              "619  FC Barcelona  110500.0  ?565K  ...          4.0  Medium/ Medium   \n",
              "848   Real Madrid   37000.0  ?240K  ...          4.0     Medium/ Low   \n",
              "\n",
              "     Body Type  Real Face  Position Jersey Number    Joined  \\\n",
              "487     Normal        Yes       RCB           3.0  1-Jul-08   \n",
              "549     Normal        Yes       RCB          15.0  1-Aug-05   \n",
              "597     Normal        Yes        CB           3.0  9-Aug-14   \n",
              "619      Messi        Yes        RF          10.0  1-Jul-04   \n",
              "848     Normal        Yes        ST           9.0  9-Jul-09   \n",
              "\n",
              "    Contract Valid Until Height  Weight  \n",
              "487                 2022     76     187  \n",
              "549                 2020     72     181  \n",
              "597                 2019     72     176  \n",
              "619                 2021     67     159  \n",
              "848                 2021     73     179  \n",
              "\n",
              "[5 rows x 24 columns]"
            ]
          },
          "execution_count": 31,
          "metadata": {},
          "output_type": "execute_result"
        }
      ],
      "source": [
        "df_fifa=df_fifa.loc[(df_fifa['Club']=='Real Madrid')|(df_fifa['Club']=='FC Barcelona')]\n",
        "df_fifa.head(5)"
      ]
    },
    {
      "cell_type": "code",
      "execution_count": null,
      "metadata": {
        "colab": {
          "base_uri": "https://localhost:8080/"
        },
        "id": "c9LJcmxCP9HB",
        "outputId": "0de788bf-5db0-442f-8407-9b867da28e3c"
      },
      "outputs": [
        {
          "data": {
            "text/plain": [
              "10"
            ]
          },
          "execution_count": 32,
          "metadata": {},
          "output_type": "execute_result"
        }
      ],
      "source": [
        "df_fifa.loc[df_fifa['International Reputation']==4].shape[0]"
      ]
    },
    {
      "cell_type": "markdown",
      "metadata": {
        "id": "iBr9RyN1MdYj"
      },
      "source": [
        "1.6 Find out the names of the youngest and oldest players from the dataset"
      ]
    },
    {
      "cell_type": "code",
      "execution_count": null,
      "metadata": {
        "id": "1pwAqoC4MfUi"
      },
      "outputs": [],
      "source": [
        "df_fifa_max=df_fifa_age['Age'].max()\n",
        "df_fifa_min=df_fifa_age['Age'].min()"
      ]
    },
    {
      "cell_type": "code",
      "execution_count": null,
      "metadata": {
        "colab": {
          "base_uri": "https://localhost:8080/"
        },
        "id": "EyAkTMihMnVi",
        "outputId": "7949f2b5-b9cb-405d-fd98-e3dd92211af7"
      },
      "outputs": [
        {
          "name": "stdout",
          "output_type": "stream",
          "text": [
            "maximum age of players 44\n",
            "minimum age of players 16\n"
          ]
        },
        {
          "data": {
            "text/plain": [
              "12178       J. Imbrechts\n",
              "12510         D. Adshead\n",
              "12755        W. Geubbels\n",
              "12844        J. Italiano\n",
              "12877          B. Worman\n",
              "12884           J. Lahne\n",
              "13034           R. G¢mez\n",
              "13090           R. Hauge\n",
              "13130        L. D'Arrigo\n",
              "13515        Y. Begraoui\n",
              "13562           A. Do?an\n",
              "13596           B. Mumba\n",
              "13697           N. Ayva\n",
              "13709          B. Nygren\n",
              "13733          J. Cleary\n",
              "13761        B. O'Gorman\n",
              "13826       T. Gundelund\n",
              "13840          M. Larsen\n",
              "14138           A. Taoui\n",
              "14235     M. Kstenbauer\n",
              "14345          J. Olstad\n",
              "14444     F. Tauchhammer\n",
              "14496          Y. Roemer\n",
              "14532       A. Mahlonoko\n",
              "14617         C. Bassett\n",
              "14702           K. Broda\n",
              "14714    P. Samiec-Talar\n",
              "14750           E. Ceide\n",
              "14752           B. Waine\n",
              "14798     Pelayo Morilla\n",
              "14878       G. Hollywood\n",
              "14927           M. Tilio\n",
              "15033          G. Nugent\n",
              "15056           L. Smyth\n",
              "15077     Y. Verschaeren\n",
              "15104        H. Massengo\n",
              "15106         J. Rowland\n",
              "Name: Name, dtype: object"
            ]
          },
          "execution_count": 34,
          "metadata": {},
          "output_type": "execute_result"
        }
      ],
      "source": [
        "print('maximum age of players',df_fifa_max)\n",
        "print('minimum age of players',df_fifa_min)\n",
        "df_fifa_age.loc[df_fifa_age['Age']==df_fifa_max,'Name']\n",
        "df_fifa_age.loc[df_fifa_age['Age']==df_fifa_min,'Name']"
      ]
    },
    {
      "cell_type": "markdown",
      "metadata": {
        "id": "QPGK2fGWMqOy"
      },
      "source": [
        "# **II. Read the dataset atheletes.csv and regions.csv and answer the following questions.**"
      ]
    },
    {
      "cell_type": "code",
      "execution_count": null,
      "metadata": {
        "id": "hBHWll4QYOoZ"
      },
      "outputs": [],
      "source": [
        "#import all the necessary package#\n",
        "import pandas as pd\n",
        "import matplotlib.pyplot as plt\n",
        "import seaborn as sns"
      ]
    },
    {
      "cell_type": "code",
      "execution_count": null,
      "metadata": {
        "colab": {
          "base_uri": "https://localhost:8080/",
          "height": 112
        },
        "id": "3I9q9mwQMtHr",
        "outputId": "fe42c0ae-1d06-40d8-9cca-c0fcdd851ea7"
      },
      "outputs": [
        {
          "data": {
            "text/html": [
              "\n",
              "  <div id=\"df-e4a7baad-83c0-4fca-844a-37310f99dcc0\">\n",
              "    <div class=\"colab-df-container\">\n",
              "      <div>\n",
              "<style scoped>\n",
              "    .dataframe tbody tr th:only-of-type {\n",
              "        vertical-align: middle;\n",
              "    }\n",
              "\n",
              "    .dataframe tbody tr th {\n",
              "        vertical-align: top;\n",
              "    }\n",
              "\n",
              "    .dataframe thead th {\n",
              "        text-align: right;\n",
              "    }\n",
              "</style>\n",
              "<table border=\"1\" class=\"dataframe\">\n",
              "  <thead>\n",
              "    <tr style=\"text-align: right;\">\n",
              "      <th></th>\n",
              "      <th>ID</th>\n",
              "      <th>Name</th>\n",
              "      <th>Sex</th>\n",
              "      <th>Age</th>\n",
              "      <th>Height</th>\n",
              "      <th>Weight</th>\n",
              "      <th>Team</th>\n",
              "      <th>NOC</th>\n",
              "      <th>Games</th>\n",
              "      <th>Year</th>\n",
              "      <th>Season</th>\n",
              "      <th>City</th>\n",
              "      <th>Sport</th>\n",
              "      <th>Event</th>\n",
              "      <th>Medal</th>\n",
              "    </tr>\n",
              "  </thead>\n",
              "  <tbody>\n",
              "    <tr>\n",
              "      <th>0</th>\n",
              "      <td>1</td>\n",
              "      <td>A Dijiang</td>\n",
              "      <td>M</td>\n",
              "      <td>24.0</td>\n",
              "      <td>180.0</td>\n",
              "      <td>80.0</td>\n",
              "      <td>China</td>\n",
              "      <td>CHN</td>\n",
              "      <td>1992 Summer</td>\n",
              "      <td>1992</td>\n",
              "      <td>Summer</td>\n",
              "      <td>Barcelona</td>\n",
              "      <td>Basketball</td>\n",
              "      <td>Basketball Men's Basketball</td>\n",
              "      <td>NaN</td>\n",
              "    </tr>\n",
              "    <tr>\n",
              "      <th>1</th>\n",
              "      <td>2</td>\n",
              "      <td>A Lamusi</td>\n",
              "      <td>M</td>\n",
              "      <td>23.0</td>\n",
              "      <td>170.0</td>\n",
              "      <td>60.0</td>\n",
              "      <td>China</td>\n",
              "      <td>CHN</td>\n",
              "      <td>2012 Summer</td>\n",
              "      <td>2012</td>\n",
              "      <td>Summer</td>\n",
              "      <td>London</td>\n",
              "      <td>Judo</td>\n",
              "      <td>Judo Men's Extra-Lightweight</td>\n",
              "      <td>NaN</td>\n",
              "    </tr>\n",
              "  </tbody>\n",
              "</table>\n",
              "</div>\n",
              "      <button class=\"colab-df-convert\" onclick=\"convertToInteractive('df-e4a7baad-83c0-4fca-844a-37310f99dcc0')\"\n",
              "              title=\"Convert this dataframe to an interactive table.\"\n",
              "              style=\"display:none;\">\n",
              "        \n",
              "  <svg xmlns=\"http://www.w3.org/2000/svg\" height=\"24px\"viewBox=\"0 0 24 24\"\n",
              "       width=\"24px\">\n",
              "    <path d=\"M0 0h24v24H0V0z\" fill=\"none\"/>\n",
              "    <path d=\"M18.56 5.44l.94 2.06.94-2.06 2.06-.94-2.06-.94-.94-2.06-.94 2.06-2.06.94zm-11 1L8.5 8.5l.94-2.06 2.06-.94-2.06-.94L8.5 2.5l-.94 2.06-2.06.94zm10 10l.94 2.06.94-2.06 2.06-.94-2.06-.94-.94-2.06-.94 2.06-2.06.94z\"/><path d=\"M17.41 7.96l-1.37-1.37c-.4-.4-.92-.59-1.43-.59-.52 0-1.04.2-1.43.59L10.3 9.45l-7.72 7.72c-.78.78-.78 2.05 0 2.83L4 21.41c.39.39.9.59 1.41.59.51 0 1.02-.2 1.41-.59l7.78-7.78 2.81-2.81c.8-.78.8-2.07 0-2.86zM5.41 20L4 18.59l7.72-7.72 1.47 1.35L5.41 20z\"/>\n",
              "  </svg>\n",
              "      </button>\n",
              "      \n",
              "  <style>\n",
              "    .colab-df-container {\n",
              "      display:flex;\n",
              "      flex-wrap:wrap;\n",
              "      gap: 12px;\n",
              "    }\n",
              "\n",
              "    .colab-df-convert {\n",
              "      background-color: #E8F0FE;\n",
              "      border: none;\n",
              "      border-radius: 50%;\n",
              "      cursor: pointer;\n",
              "      display: none;\n",
              "      fill: #1967D2;\n",
              "      height: 32px;\n",
              "      padding: 0 0 0 0;\n",
              "      width: 32px;\n",
              "    }\n",
              "\n",
              "    .colab-df-convert:hover {\n",
              "      background-color: #E2EBFA;\n",
              "      box-shadow: 0px 1px 2px rgba(60, 64, 67, 0.3), 0px 1px 3px 1px rgba(60, 64, 67, 0.15);\n",
              "      fill: #174EA6;\n",
              "    }\n",
              "\n",
              "    [theme=dark] .colab-df-convert {\n",
              "      background-color: #3B4455;\n",
              "      fill: #D2E3FC;\n",
              "    }\n",
              "\n",
              "    [theme=dark] .colab-df-convert:hover {\n",
              "      background-color: #434B5C;\n",
              "      box-shadow: 0px 1px 3px 1px rgba(0, 0, 0, 0.15);\n",
              "      filter: drop-shadow(0px 1px 2px rgba(0, 0, 0, 0.3));\n",
              "      fill: #FFFFFF;\n",
              "    }\n",
              "  </style>\n",
              "\n",
              "      <script>\n",
              "        const buttonEl =\n",
              "          document.querySelector('#df-e4a7baad-83c0-4fca-844a-37310f99dcc0 button.colab-df-convert');\n",
              "        buttonEl.style.display =\n",
              "          google.colab.kernel.accessAllowed ? 'block' : 'none';\n",
              "\n",
              "        async function convertToInteractive(key) {\n",
              "          const element = document.querySelector('#df-e4a7baad-83c0-4fca-844a-37310f99dcc0');\n",
              "          const dataTable =\n",
              "            await google.colab.kernel.invokeFunction('convertToInteractive',\n",
              "                                                     [key], {});\n",
              "          if (!dataTable) return;\n",
              "\n",
              "          const docLinkHtml = 'Like what you see? Visit the ' +\n",
              "            '<a target=\"_blank\" href=https://colab.research.google.com/notebooks/data_table.ipynb>data table notebook</a>'\n",
              "            + ' to learn more about interactive tables.';\n",
              "          element.innerHTML = '';\n",
              "          dataTable['output_type'] = 'display_data';\n",
              "          await google.colab.output.renderOutput(dataTable, element);\n",
              "          const docLink = document.createElement('div');\n",
              "          docLink.innerHTML = docLinkHtml;\n",
              "          element.appendChild(docLink);\n",
              "        }\n",
              "      </script>\n",
              "    </div>\n",
              "  </div>\n",
              "  "
            ],
            "text/plain": [
              "   ID       Name Sex   Age  Height  Weight   Team  NOC        Games  Year  \\\n",
              "0   1  A Dijiang   M  24.0   180.0    80.0  China  CHN  1992 Summer  1992   \n",
              "1   2   A Lamusi   M  23.0   170.0    60.0  China  CHN  2012 Summer  2012   \n",
              "\n",
              "   Season       City       Sport                         Event Medal  \n",
              "0  Summer  Barcelona  Basketball   Basketball Men's Basketball   NaN  \n",
              "1  Summer     London        Judo  Judo Men's Extra-Lightweight   NaN  "
            ]
          },
          "execution_count": 36,
          "metadata": {},
          "output_type": "execute_result"
        }
      ],
      "source": [
        "df_athe= pd.read_csv('atheletes.csv')\n",
        "df_athe.head(2)"
      ]
    },
    {
      "cell_type": "code",
      "execution_count": null,
      "metadata": {
        "colab": {
          "base_uri": "https://localhost:8080/"
        },
        "id": "svXCyru-RnGW",
        "outputId": "240011cd-3b3d-413b-8579-887c310c2917"
      },
      "outputs": [
        {
          "data": {
            "text/plain": [
              "(271116, 15)"
            ]
          },
          "execution_count": 37,
          "metadata": {},
          "output_type": "execute_result"
        }
      ],
      "source": [
        "df_athe.shape#(rows and column)"
      ]
    },
    {
      "cell_type": "code",
      "execution_count": null,
      "metadata": {
        "colab": {
          "base_uri": "https://localhost:8080/",
          "height": 206
        },
        "id": "pdhrQRaePDpL",
        "outputId": "73325b7f-faa8-4ef3-cfea-99e37775c8bc"
      },
      "outputs": [
        {
          "data": {
            "text/html": [
              "\n",
              "  <div id=\"df-a2f9e090-3ada-4147-b512-7312b144dddd\">\n",
              "    <div class=\"colab-df-container\">\n",
              "      <div>\n",
              "<style scoped>\n",
              "    .dataframe tbody tr th:only-of-type {\n",
              "        vertical-align: middle;\n",
              "    }\n",
              "\n",
              "    .dataframe tbody tr th {\n",
              "        vertical-align: top;\n",
              "    }\n",
              "\n",
              "    .dataframe thead th {\n",
              "        text-align: right;\n",
              "    }\n",
              "</style>\n",
              "<table border=\"1\" class=\"dataframe\">\n",
              "  <thead>\n",
              "    <tr style=\"text-align: right;\">\n",
              "      <th></th>\n",
              "      <th>NOC</th>\n",
              "      <th>region</th>\n",
              "      <th>notes</th>\n",
              "    </tr>\n",
              "  </thead>\n",
              "  <tbody>\n",
              "    <tr>\n",
              "      <th>0</th>\n",
              "      <td>AFG</td>\n",
              "      <td>Afghanistan</td>\n",
              "      <td>NaN</td>\n",
              "    </tr>\n",
              "    <tr>\n",
              "      <th>1</th>\n",
              "      <td>AHO</td>\n",
              "      <td>Curacao</td>\n",
              "      <td>Netherlands Antilles</td>\n",
              "    </tr>\n",
              "    <tr>\n",
              "      <th>2</th>\n",
              "      <td>ALB</td>\n",
              "      <td>Albania</td>\n",
              "      <td>NaN</td>\n",
              "    </tr>\n",
              "    <tr>\n",
              "      <th>3</th>\n",
              "      <td>ALG</td>\n",
              "      <td>Algeria</td>\n",
              "      <td>NaN</td>\n",
              "    </tr>\n",
              "    <tr>\n",
              "      <th>4</th>\n",
              "      <td>AND</td>\n",
              "      <td>Andorra</td>\n",
              "      <td>NaN</td>\n",
              "    </tr>\n",
              "  </tbody>\n",
              "</table>\n",
              "</div>\n",
              "      <button class=\"colab-df-convert\" onclick=\"convertToInteractive('df-a2f9e090-3ada-4147-b512-7312b144dddd')\"\n",
              "              title=\"Convert this dataframe to an interactive table.\"\n",
              "              style=\"display:none;\">\n",
              "        \n",
              "  <svg xmlns=\"http://www.w3.org/2000/svg\" height=\"24px\"viewBox=\"0 0 24 24\"\n",
              "       width=\"24px\">\n",
              "    <path d=\"M0 0h24v24H0V0z\" fill=\"none\"/>\n",
              "    <path d=\"M18.56 5.44l.94 2.06.94-2.06 2.06-.94-2.06-.94-.94-2.06-.94 2.06-2.06.94zm-11 1L8.5 8.5l.94-2.06 2.06-.94-2.06-.94L8.5 2.5l-.94 2.06-2.06.94zm10 10l.94 2.06.94-2.06 2.06-.94-2.06-.94-.94-2.06-.94 2.06-2.06.94z\"/><path d=\"M17.41 7.96l-1.37-1.37c-.4-.4-.92-.59-1.43-.59-.52 0-1.04.2-1.43.59L10.3 9.45l-7.72 7.72c-.78.78-.78 2.05 0 2.83L4 21.41c.39.39.9.59 1.41.59.51 0 1.02-.2 1.41-.59l7.78-7.78 2.81-2.81c.8-.78.8-2.07 0-2.86zM5.41 20L4 18.59l7.72-7.72 1.47 1.35L5.41 20z\"/>\n",
              "  </svg>\n",
              "      </button>\n",
              "      \n",
              "  <style>\n",
              "    .colab-df-container {\n",
              "      display:flex;\n",
              "      flex-wrap:wrap;\n",
              "      gap: 12px;\n",
              "    }\n",
              "\n",
              "    .colab-df-convert {\n",
              "      background-color: #E8F0FE;\n",
              "      border: none;\n",
              "      border-radius: 50%;\n",
              "      cursor: pointer;\n",
              "      display: none;\n",
              "      fill: #1967D2;\n",
              "      height: 32px;\n",
              "      padding: 0 0 0 0;\n",
              "      width: 32px;\n",
              "    }\n",
              "\n",
              "    .colab-df-convert:hover {\n",
              "      background-color: #E2EBFA;\n",
              "      box-shadow: 0px 1px 2px rgba(60, 64, 67, 0.3), 0px 1px 3px 1px rgba(60, 64, 67, 0.15);\n",
              "      fill: #174EA6;\n",
              "    }\n",
              "\n",
              "    [theme=dark] .colab-df-convert {\n",
              "      background-color: #3B4455;\n",
              "      fill: #D2E3FC;\n",
              "    }\n",
              "\n",
              "    [theme=dark] .colab-df-convert:hover {\n",
              "      background-color: #434B5C;\n",
              "      box-shadow: 0px 1px 3px 1px rgba(0, 0, 0, 0.15);\n",
              "      filter: drop-shadow(0px 1px 2px rgba(0, 0, 0, 0.3));\n",
              "      fill: #FFFFFF;\n",
              "    }\n",
              "  </style>\n",
              "\n",
              "      <script>\n",
              "        const buttonEl =\n",
              "          document.querySelector('#df-a2f9e090-3ada-4147-b512-7312b144dddd button.colab-df-convert');\n",
              "        buttonEl.style.display =\n",
              "          google.colab.kernel.accessAllowed ? 'block' : 'none';\n",
              "\n",
              "        async function convertToInteractive(key) {\n",
              "          const element = document.querySelector('#df-a2f9e090-3ada-4147-b512-7312b144dddd');\n",
              "          const dataTable =\n",
              "            await google.colab.kernel.invokeFunction('convertToInteractive',\n",
              "                                                     [key], {});\n",
              "          if (!dataTable) return;\n",
              "\n",
              "          const docLinkHtml = 'Like what you see? Visit the ' +\n",
              "            '<a target=\"_blank\" href=https://colab.research.google.com/notebooks/data_table.ipynb>data table notebook</a>'\n",
              "            + ' to learn more about interactive tables.';\n",
              "          element.innerHTML = '';\n",
              "          dataTable['output_type'] = 'display_data';\n",
              "          await google.colab.output.renderOutput(dataTable, element);\n",
              "          const docLink = document.createElement('div');\n",
              "          docLink.innerHTML = docLinkHtml;\n",
              "          element.appendChild(docLink);\n",
              "        }\n",
              "      </script>\n",
              "    </div>\n",
              "  </div>\n",
              "  "
            ],
            "text/plain": [
              "   NOC       region                 notes\n",
              "0  AFG  Afghanistan                   NaN\n",
              "1  AHO      Curacao  Netherlands Antilles\n",
              "2  ALB      Albania                   NaN\n",
              "3  ALG      Algeria                   NaN\n",
              "4  AND      Andorra                   NaN"
            ]
          },
          "execution_count": 38,
          "metadata": {},
          "output_type": "execute_result"
        }
      ],
      "source": [
        "df_regi= pd.read_csv('regions.csv')\n",
        "df_regi.head()"
      ]
    },
    {
      "cell_type": "code",
      "execution_count": null,
      "metadata": {
        "colab": {
          "base_uri": "https://localhost:8080/"
        },
        "id": "yz_Gn5ftRq9d",
        "outputId": "f2460e9b-aa6d-4f30-a43a-2311805e450b"
      },
      "outputs": [
        {
          "data": {
            "text/plain": [
              "(230, 3)"
            ]
          },
          "execution_count": 39,
          "metadata": {},
          "output_type": "execute_result"
        }
      ],
      "source": [
        "df_regi.shape#(rows and column)"
      ]
    },
    {
      "cell_type": "markdown",
      "metadata": {
        "id": "5CUtWBowXdFK"
      },
      "source": [
        "2.1 Merge the dataset athletes and regions."
      ]
    },
    {
      "cell_type": "code",
      "execution_count": null,
      "metadata": {
        "colab": {
          "base_uri": "https://localhost:8080/",
          "height": 187
        },
        "id": "yxs4WSV2XkjI",
        "outputId": "2dff22f7-0391-4c00-85a8-d4a4740cb963"
      },
      "outputs": [
        {
          "data": {
            "text/html": [
              "\n",
              "  <div id=\"df-3cb9d56b-b146-4e33-a8eb-62aca02b118b\">\n",
              "    <div class=\"colab-df-container\">\n",
              "      <div>\n",
              "<style scoped>\n",
              "    .dataframe tbody tr th:only-of-type {\n",
              "        vertical-align: middle;\n",
              "    }\n",
              "\n",
              "    .dataframe tbody tr th {\n",
              "        vertical-align: top;\n",
              "    }\n",
              "\n",
              "    .dataframe thead th {\n",
              "        text-align: right;\n",
              "    }\n",
              "</style>\n",
              "<table border=\"1\" class=\"dataframe\">\n",
              "  <thead>\n",
              "    <tr style=\"text-align: right;\">\n",
              "      <th></th>\n",
              "      <th>ID</th>\n",
              "      <th>Name</th>\n",
              "      <th>Sex</th>\n",
              "      <th>Age</th>\n",
              "      <th>Height</th>\n",
              "      <th>Weight</th>\n",
              "      <th>Team</th>\n",
              "      <th>NOC</th>\n",
              "      <th>Games</th>\n",
              "      <th>Year</th>\n",
              "      <th>Season</th>\n",
              "      <th>City</th>\n",
              "      <th>Sport</th>\n",
              "      <th>Event</th>\n",
              "      <th>Medal</th>\n",
              "      <th>region</th>\n",
              "      <th>notes</th>\n",
              "    </tr>\n",
              "  </thead>\n",
              "  <tbody>\n",
              "    <tr>\n",
              "      <th>0</th>\n",
              "      <td>1</td>\n",
              "      <td>A Dijiang</td>\n",
              "      <td>M</td>\n",
              "      <td>24.0</td>\n",
              "      <td>180.0</td>\n",
              "      <td>80.0</td>\n",
              "      <td>China</td>\n",
              "      <td>CHN</td>\n",
              "      <td>1992 Summer</td>\n",
              "      <td>1992</td>\n",
              "      <td>Summer</td>\n",
              "      <td>Barcelona</td>\n",
              "      <td>Basketball</td>\n",
              "      <td>Basketball Men's Basketball</td>\n",
              "      <td>NaN</td>\n",
              "      <td>China</td>\n",
              "      <td>NaN</td>\n",
              "    </tr>\n",
              "    <tr>\n",
              "      <th>1</th>\n",
              "      <td>2</td>\n",
              "      <td>A Lamusi</td>\n",
              "      <td>M</td>\n",
              "      <td>23.0</td>\n",
              "      <td>170.0</td>\n",
              "      <td>60.0</td>\n",
              "      <td>China</td>\n",
              "      <td>CHN</td>\n",
              "      <td>2012 Summer</td>\n",
              "      <td>2012</td>\n",
              "      <td>Summer</td>\n",
              "      <td>London</td>\n",
              "      <td>Judo</td>\n",
              "      <td>Judo Men's Extra-Lightweight</td>\n",
              "      <td>NaN</td>\n",
              "      <td>China</td>\n",
              "      <td>NaN</td>\n",
              "    </tr>\n",
              "    <tr>\n",
              "      <th>2</th>\n",
              "      <td>602</td>\n",
              "      <td>Abudoureheman</td>\n",
              "      <td>M</td>\n",
              "      <td>22.0</td>\n",
              "      <td>182.0</td>\n",
              "      <td>75.0</td>\n",
              "      <td>China</td>\n",
              "      <td>CHN</td>\n",
              "      <td>2000 Summer</td>\n",
              "      <td>2000</td>\n",
              "      <td>Summer</td>\n",
              "      <td>Sydney</td>\n",
              "      <td>Boxing</td>\n",
              "      <td>Boxing Men's Middleweight</td>\n",
              "      <td>NaN</td>\n",
              "      <td>China</td>\n",
              "      <td>NaN</td>\n",
              "    </tr>\n",
              "  </tbody>\n",
              "</table>\n",
              "</div>\n",
              "      <button class=\"colab-df-convert\" onclick=\"convertToInteractive('df-3cb9d56b-b146-4e33-a8eb-62aca02b118b')\"\n",
              "              title=\"Convert this dataframe to an interactive table.\"\n",
              "              style=\"display:none;\">\n",
              "        \n",
              "  <svg xmlns=\"http://www.w3.org/2000/svg\" height=\"24px\"viewBox=\"0 0 24 24\"\n",
              "       width=\"24px\">\n",
              "    <path d=\"M0 0h24v24H0V0z\" fill=\"none\"/>\n",
              "    <path d=\"M18.56 5.44l.94 2.06.94-2.06 2.06-.94-2.06-.94-.94-2.06-.94 2.06-2.06.94zm-11 1L8.5 8.5l.94-2.06 2.06-.94-2.06-.94L8.5 2.5l-.94 2.06-2.06.94zm10 10l.94 2.06.94-2.06 2.06-.94-2.06-.94-.94-2.06-.94 2.06-2.06.94z\"/><path d=\"M17.41 7.96l-1.37-1.37c-.4-.4-.92-.59-1.43-.59-.52 0-1.04.2-1.43.59L10.3 9.45l-7.72 7.72c-.78.78-.78 2.05 0 2.83L4 21.41c.39.39.9.59 1.41.59.51 0 1.02-.2 1.41-.59l7.78-7.78 2.81-2.81c.8-.78.8-2.07 0-2.86zM5.41 20L4 18.59l7.72-7.72 1.47 1.35L5.41 20z\"/>\n",
              "  </svg>\n",
              "      </button>\n",
              "      \n",
              "  <style>\n",
              "    .colab-df-container {\n",
              "      display:flex;\n",
              "      flex-wrap:wrap;\n",
              "      gap: 12px;\n",
              "    }\n",
              "\n",
              "    .colab-df-convert {\n",
              "      background-color: #E8F0FE;\n",
              "      border: none;\n",
              "      border-radius: 50%;\n",
              "      cursor: pointer;\n",
              "      display: none;\n",
              "      fill: #1967D2;\n",
              "      height: 32px;\n",
              "      padding: 0 0 0 0;\n",
              "      width: 32px;\n",
              "    }\n",
              "\n",
              "    .colab-df-convert:hover {\n",
              "      background-color: #E2EBFA;\n",
              "      box-shadow: 0px 1px 2px rgba(60, 64, 67, 0.3), 0px 1px 3px 1px rgba(60, 64, 67, 0.15);\n",
              "      fill: #174EA6;\n",
              "    }\n",
              "\n",
              "    [theme=dark] .colab-df-convert {\n",
              "      background-color: #3B4455;\n",
              "      fill: #D2E3FC;\n",
              "    }\n",
              "\n",
              "    [theme=dark] .colab-df-convert:hover {\n",
              "      background-color: #434B5C;\n",
              "      box-shadow: 0px 1px 3px 1px rgba(0, 0, 0, 0.15);\n",
              "      filter: drop-shadow(0px 1px 2px rgba(0, 0, 0, 0.3));\n",
              "      fill: #FFFFFF;\n",
              "    }\n",
              "  </style>\n",
              "\n",
              "      <script>\n",
              "        const buttonEl =\n",
              "          document.querySelector('#df-3cb9d56b-b146-4e33-a8eb-62aca02b118b button.colab-df-convert');\n",
              "        buttonEl.style.display =\n",
              "          google.colab.kernel.accessAllowed ? 'block' : 'none';\n",
              "\n",
              "        async function convertToInteractive(key) {\n",
              "          const element = document.querySelector('#df-3cb9d56b-b146-4e33-a8eb-62aca02b118b');\n",
              "          const dataTable =\n",
              "            await google.colab.kernel.invokeFunction('convertToInteractive',\n",
              "                                                     [key], {});\n",
              "          if (!dataTable) return;\n",
              "\n",
              "          const docLinkHtml = 'Like what you see? Visit the ' +\n",
              "            '<a target=\"_blank\" href=https://colab.research.google.com/notebooks/data_table.ipynb>data table notebook</a>'\n",
              "            + ' to learn more about interactive tables.';\n",
              "          element.innerHTML = '';\n",
              "          dataTable['output_type'] = 'display_data';\n",
              "          await google.colab.output.renderOutput(dataTable, element);\n",
              "          const docLink = document.createElement('div');\n",
              "          docLink.innerHTML = docLinkHtml;\n",
              "          element.appendChild(docLink);\n",
              "        }\n",
              "      </script>\n",
              "    </div>\n",
              "  </div>\n",
              "  "
            ],
            "text/plain": [
              "    ID           Name Sex   Age  Height  Weight   Team  NOC        Games  \\\n",
              "0    1      A Dijiang   M  24.0   180.0    80.0  China  CHN  1992 Summer   \n",
              "1    2       A Lamusi   M  23.0   170.0    60.0  China  CHN  2012 Summer   \n",
              "2  602  Abudoureheman   M  22.0   182.0    75.0  China  CHN  2000 Summer   \n",
              "\n",
              "   Year  Season       City       Sport                         Event Medal  \\\n",
              "0  1992  Summer  Barcelona  Basketball   Basketball Men's Basketball   NaN   \n",
              "1  2012  Summer     London        Judo  Judo Men's Extra-Lightweight   NaN   \n",
              "2  2000  Summer     Sydney      Boxing     Boxing Men's Middleweight   NaN   \n",
              "\n",
              "  region notes  \n",
              "0  China   NaN  \n",
              "1  China   NaN  \n",
              "2  China   NaN  "
            ]
          },
          "execution_count": 40,
          "metadata": {},
          "output_type": "execute_result"
        }
      ],
      "source": [
        "df_merged_athlets=pd.merge(df_athe,df_regi,on='NOC')\n",
        "df_merged_athlets.head(3)"
      ]
    },
    {
      "cell_type": "markdown",
      "metadata": {
        "id": "PehSUvgiXlHI"
      },
      "source": [
        "2.2 Show the distribution of the age of gold medallists"
      ]
    },
    {
      "cell_type": "code",
      "execution_count": null,
      "metadata": {
        "colab": {
          "base_uri": "https://localhost:8080/",
          "height": 187
        },
        "id": "86Fc9l6qXuaO",
        "outputId": "1903e450-aee4-4431-fdc6-b01d9c36266c"
      },
      "outputs": [
        {
          "data": {
            "text/html": [
              "\n",
              "  <div id=\"df-cb97edd7-08ac-4096-b66e-d94344bef701\">\n",
              "    <div class=\"colab-df-container\">\n",
              "      <div>\n",
              "<style scoped>\n",
              "    .dataframe tbody tr th:only-of-type {\n",
              "        vertical-align: middle;\n",
              "    }\n",
              "\n",
              "    .dataframe tbody tr th {\n",
              "        vertical-align: top;\n",
              "    }\n",
              "\n",
              "    .dataframe thead th {\n",
              "        text-align: right;\n",
              "    }\n",
              "</style>\n",
              "<table border=\"1\" class=\"dataframe\">\n",
              "  <thead>\n",
              "    <tr style=\"text-align: right;\">\n",
              "      <th></th>\n",
              "      <th>ID</th>\n",
              "      <th>Name</th>\n",
              "      <th>Sex</th>\n",
              "      <th>Age</th>\n",
              "      <th>Height</th>\n",
              "      <th>Weight</th>\n",
              "      <th>Team</th>\n",
              "      <th>NOC</th>\n",
              "      <th>Games</th>\n",
              "      <th>Year</th>\n",
              "      <th>Season</th>\n",
              "      <th>City</th>\n",
              "      <th>Sport</th>\n",
              "      <th>Event</th>\n",
              "      <th>Medal</th>\n",
              "      <th>region</th>\n",
              "      <th>notes</th>\n",
              "    </tr>\n",
              "  </thead>\n",
              "  <tbody>\n",
              "    <tr>\n",
              "      <th>68</th>\n",
              "      <td>17294</td>\n",
              "      <td>Cai Yalin</td>\n",
              "      <td>M</td>\n",
              "      <td>23.0</td>\n",
              "      <td>174.0</td>\n",
              "      <td>60.0</td>\n",
              "      <td>China</td>\n",
              "      <td>CHN</td>\n",
              "      <td>2000 Summer</td>\n",
              "      <td>2000</td>\n",
              "      <td>Summer</td>\n",
              "      <td>Sydney</td>\n",
              "      <td>Shooting</td>\n",
              "      <td>Shooting Men's Air Rifle, 10 metres</td>\n",
              "      <td>Gold</td>\n",
              "      <td>China</td>\n",
              "      <td>NaN</td>\n",
              "    </tr>\n",
              "    <tr>\n",
              "      <th>77</th>\n",
              "      <td>17299</td>\n",
              "      <td>Cai Yun</td>\n",
              "      <td>M</td>\n",
              "      <td>32.0</td>\n",
              "      <td>181.0</td>\n",
              "      <td>68.0</td>\n",
              "      <td>China-1</td>\n",
              "      <td>CHN</td>\n",
              "      <td>2012 Summer</td>\n",
              "      <td>2012</td>\n",
              "      <td>Summer</td>\n",
              "      <td>London</td>\n",
              "      <td>Badminton</td>\n",
              "      <td>Badminton Men's Doubles</td>\n",
              "      <td>Gold</td>\n",
              "      <td>China</td>\n",
              "      <td>NaN</td>\n",
              "    </tr>\n",
              "    <tr>\n",
              "      <th>87</th>\n",
              "      <td>17995</td>\n",
              "      <td>Cao Lei</td>\n",
              "      <td>F</td>\n",
              "      <td>24.0</td>\n",
              "      <td>168.0</td>\n",
              "      <td>75.0</td>\n",
              "      <td>China</td>\n",
              "      <td>CHN</td>\n",
              "      <td>2008 Summer</td>\n",
              "      <td>2008</td>\n",
              "      <td>Summer</td>\n",
              "      <td>Beijing</td>\n",
              "      <td>Weightlifting</td>\n",
              "      <td>Weightlifting Women's Heavyweight</td>\n",
              "      <td>Gold</td>\n",
              "      <td>China</td>\n",
              "      <td>NaN</td>\n",
              "    </tr>\n",
              "  </tbody>\n",
              "</table>\n",
              "</div>\n",
              "      <button class=\"colab-df-convert\" onclick=\"convertToInteractive('df-cb97edd7-08ac-4096-b66e-d94344bef701')\"\n",
              "              title=\"Convert this dataframe to an interactive table.\"\n",
              "              style=\"display:none;\">\n",
              "        \n",
              "  <svg xmlns=\"http://www.w3.org/2000/svg\" height=\"24px\"viewBox=\"0 0 24 24\"\n",
              "       width=\"24px\">\n",
              "    <path d=\"M0 0h24v24H0V0z\" fill=\"none\"/>\n",
              "    <path d=\"M18.56 5.44l.94 2.06.94-2.06 2.06-.94-2.06-.94-.94-2.06-.94 2.06-2.06.94zm-11 1L8.5 8.5l.94-2.06 2.06-.94-2.06-.94L8.5 2.5l-.94 2.06-2.06.94zm10 10l.94 2.06.94-2.06 2.06-.94-2.06-.94-.94-2.06-.94 2.06-2.06.94z\"/><path d=\"M17.41 7.96l-1.37-1.37c-.4-.4-.92-.59-1.43-.59-.52 0-1.04.2-1.43.59L10.3 9.45l-7.72 7.72c-.78.78-.78 2.05 0 2.83L4 21.41c.39.39.9.59 1.41.59.51 0 1.02-.2 1.41-.59l7.78-7.78 2.81-2.81c.8-.78.8-2.07 0-2.86zM5.41 20L4 18.59l7.72-7.72 1.47 1.35L5.41 20z\"/>\n",
              "  </svg>\n",
              "      </button>\n",
              "      \n",
              "  <style>\n",
              "    .colab-df-container {\n",
              "      display:flex;\n",
              "      flex-wrap:wrap;\n",
              "      gap: 12px;\n",
              "    }\n",
              "\n",
              "    .colab-df-convert {\n",
              "      background-color: #E8F0FE;\n",
              "      border: none;\n",
              "      border-radius: 50%;\n",
              "      cursor: pointer;\n",
              "      display: none;\n",
              "      fill: #1967D2;\n",
              "      height: 32px;\n",
              "      padding: 0 0 0 0;\n",
              "      width: 32px;\n",
              "    }\n",
              "\n",
              "    .colab-df-convert:hover {\n",
              "      background-color: #E2EBFA;\n",
              "      box-shadow: 0px 1px 2px rgba(60, 64, 67, 0.3), 0px 1px 3px 1px rgba(60, 64, 67, 0.15);\n",
              "      fill: #174EA6;\n",
              "    }\n",
              "\n",
              "    [theme=dark] .colab-df-convert {\n",
              "      background-color: #3B4455;\n",
              "      fill: #D2E3FC;\n",
              "    }\n",
              "\n",
              "    [theme=dark] .colab-df-convert:hover {\n",
              "      background-color: #434B5C;\n",
              "      box-shadow: 0px 1px 3px 1px rgba(0, 0, 0, 0.15);\n",
              "      filter: drop-shadow(0px 1px 2px rgba(0, 0, 0, 0.3));\n",
              "      fill: #FFFFFF;\n",
              "    }\n",
              "  </style>\n",
              "\n",
              "      <script>\n",
              "        const buttonEl =\n",
              "          document.querySelector('#df-cb97edd7-08ac-4096-b66e-d94344bef701 button.colab-df-convert');\n",
              "        buttonEl.style.display =\n",
              "          google.colab.kernel.accessAllowed ? 'block' : 'none';\n",
              "\n",
              "        async function convertToInteractive(key) {\n",
              "          const element = document.querySelector('#df-cb97edd7-08ac-4096-b66e-d94344bef701');\n",
              "          const dataTable =\n",
              "            await google.colab.kernel.invokeFunction('convertToInteractive',\n",
              "                                                     [key], {});\n",
              "          if (!dataTable) return;\n",
              "\n",
              "          const docLinkHtml = 'Like what you see? Visit the ' +\n",
              "            '<a target=\"_blank\" href=https://colab.research.google.com/notebooks/data_table.ipynb>data table notebook</a>'\n",
              "            + ' to learn more about interactive tables.';\n",
              "          element.innerHTML = '';\n",
              "          dataTable['output_type'] = 'display_data';\n",
              "          await google.colab.output.renderOutput(dataTable, element);\n",
              "          const docLink = document.createElement('div');\n",
              "          docLink.innerHTML = docLinkHtml;\n",
              "          element.appendChild(docLink);\n",
              "        }\n",
              "      </script>\n",
              "    </div>\n",
              "  </div>\n",
              "  "
            ],
            "text/plain": [
              "       ID       Name Sex   Age  Height  Weight     Team  NOC        Games  \\\n",
              "68  17294  Cai Yalin   M  23.0   174.0    60.0    China  CHN  2000 Summer   \n",
              "77  17299    Cai Yun   M  32.0   181.0    68.0  China-1  CHN  2012 Summer   \n",
              "87  17995    Cao Lei   F  24.0   168.0    75.0    China  CHN  2008 Summer   \n",
              "\n",
              "    Year  Season     City          Sport                                Event  \\\n",
              "68  2000  Summer   Sydney       Shooting  Shooting Men's Air Rifle, 10 metres   \n",
              "77  2012  Summer   London      Badminton              Badminton Men's Doubles   \n",
              "87  2008  Summer  Beijing  Weightlifting    Weightlifting Women's Heavyweight   \n",
              "\n",
              "   Medal region notes  \n",
              "68  Gold  China   NaN  \n",
              "77  Gold  China   NaN  \n",
              "87  Gold  China   NaN  "
            ]
          },
          "execution_count": 41,
          "metadata": {},
          "output_type": "execute_result"
        }
      ],
      "source": [
        "df_merged_gold=df_merged_athlets.loc[(df_merged_athlets['Medal']=='Gold')]\n",
        "df_merged_gold.head(3)"
      ]
    },
    {
      "cell_type": "code",
      "execution_count": null,
      "metadata": {
        "colab": {
          "base_uri": "https://localhost:8080/",
          "height": 402
        },
        "id": "UPBkgzTHdCgB",
        "outputId": "a7d865ed-ffff-4cdc-f6ee-8e7cdeb9512f"
      },
      "outputs": [
        {
          "data": {
            "text/plain": [
              "Text(0.5, 1.0, 'who are the gold medalist')"
            ]
          },
          "execution_count": 42,
          "metadata": {},
          "output_type": "execute_result"
        },
        {
          "data": {
            "image/png": "[encoded data removed]",
            "text/plain": [
              "<Figure size 360x360 with 1 Axes>"
            ]
          },
          "metadata": {
            "needs_background": "light"
          },
          "output_type": "display_data"
        }
      ],
      "source": [
        "sns.displot(df_merged_gold['Age'])\n",
        "plt.title ('who are the gold medalist')"
      ]
    },
    {
      "cell_type": "markdown",
      "metadata": {
        "id": "8hQ-MLKPXqWA"
      },
      "source": [
        "2.3 Display the number of athletes who are gold medallists and whose age is greater than 50 with\n",
        "               their info.\n"
      ]
    },
    {
      "cell_type": "code",
      "execution_count": null,
      "metadata": {
        "colab": {
          "base_uri": "https://localhost:8080/",
          "height": 406
        },
        "id": "OjQolO-gXvdB",
        "outputId": "d911b38f-ef39-4988-e2da-7bc22bdd8ab3"
      },
      "outputs": [
        {
          "data": {
            "text/html": [
              "\n",
              "  <div id=\"df-fde02922-91fe-49ab-b9a6-9ac09759f878\">\n",
              "    <div class=\"colab-df-container\">\n",
              "      <div>\n",
              "<style scoped>\n",
              "    .dataframe tbody tr th:only-of-type {\n",
              "        vertical-align: middle;\n",
              "    }\n",
              "\n",
              "    .dataframe tbody tr th {\n",
              "        vertical-align: top;\n",
              "    }\n",
              "\n",
              "    .dataframe thead th {\n",
              "        text-align: right;\n",
              "    }\n",
              "</style>\n",
              "<table border=\"1\" class=\"dataframe\">\n",
              "  <thead>\n",
              "    <tr style=\"text-align: right;\">\n",
              "      <th></th>\n",
              "      <th>ID</th>\n",
              "      <th>Name</th>\n",
              "      <th>Sex</th>\n",
              "      <th>Age</th>\n",
              "      <th>Height</th>\n",
              "      <th>Weight</th>\n",
              "      <th>Team</th>\n",
              "      <th>NOC</th>\n",
              "      <th>Games</th>\n",
              "      <th>Year</th>\n",
              "      <th>Season</th>\n",
              "      <th>City</th>\n",
              "      <th>Sport</th>\n",
              "      <th>Event</th>\n",
              "      <th>Medal</th>\n",
              "      <th>region</th>\n",
              "      <th>notes</th>\n",
              "    </tr>\n",
              "  </thead>\n",
              "  <tbody>\n",
              "    <tr>\n",
              "      <th>7391</th>\n",
              "      <td>85949</td>\n",
              "      <td>Anders Peter Nielsen</td>\n",
              "      <td>M</td>\n",
              "      <td>52.0</td>\n",
              "      <td>NaN</td>\n",
              "      <td>NaN</td>\n",
              "      <td>Denmark</td>\n",
              "      <td>DEN</td>\n",
              "      <td>1920 Summer</td>\n",
              "      <td>1920</td>\n",
              "      <td>Summer</td>\n",
              "      <td>Antwerpen</td>\n",
              "      <td>Shooting</td>\n",
              "      <td>Shooting Men's Military Rifle, Standing, 300 m...</td>\n",
              "      <td>Gold</td>\n",
              "      <td>Denmark</td>\n",
              "      <td>NaN</td>\n",
              "    </tr>\n",
              "    <tr>\n",
              "      <th>10718</th>\n",
              "      <td>52626</td>\n",
              "      <td>Isaac Lazarus Israls</td>\n",
              "      <td>M</td>\n",
              "      <td>63.0</td>\n",
              "      <td>NaN</td>\n",
              "      <td>NaN</td>\n",
              "      <td>Netherlands</td>\n",
              "      <td>NED</td>\n",
              "      <td>1928 Summer</td>\n",
              "      <td>1928</td>\n",
              "      <td>Summer</td>\n",
              "      <td>Amsterdam</td>\n",
              "      <td>Art Competitions</td>\n",
              "      <td>Art Competitions Mixed Painting, Paintings</td>\n",
              "      <td>Gold</td>\n",
              "      <td>Netherlands</td>\n",
              "      <td>NaN</td>\n",
              "    </tr>\n",
              "    <tr>\n",
              "      <th>12975</th>\n",
              "      <td>124220</td>\n",
              "      <td>Hendrikus \"Driekske\" van Bussel</td>\n",
              "      <td>M</td>\n",
              "      <td>51.0</td>\n",
              "      <td>NaN</td>\n",
              "      <td>NaN</td>\n",
              "      <td>Netherlands</td>\n",
              "      <td>NED</td>\n",
              "      <td>1920 Summer</td>\n",
              "      <td>1920</td>\n",
              "      <td>Summer</td>\n",
              "      <td>Antwerpen</td>\n",
              "      <td>Archery</td>\n",
              "      <td>Archery Men's Target Archery, 28 metres, Team</td>\n",
              "      <td>Gold</td>\n",
              "      <td>Netherlands</td>\n",
              "      <td>NaN</td>\n",
              "    </tr>\n",
              "    <tr>\n",
              "      <th>19305</th>\n",
              "      <td>32591</td>\n",
              "      <td>Everard Coenraad Endt</td>\n",
              "      <td>M</td>\n",
              "      <td>59.0</td>\n",
              "      <td>NaN</td>\n",
              "      <td>NaN</td>\n",
              "      <td>Llanoria</td>\n",
              "      <td>USA</td>\n",
              "      <td>1952 Summer</td>\n",
              "      <td>1952</td>\n",
              "      <td>Summer</td>\n",
              "      <td>Helsinki</td>\n",
              "      <td>Sailing</td>\n",
              "      <td>Sailing Mixed 6 metres</td>\n",
              "      <td>Gold</td>\n",
              "      <td>USA</td>\n",
              "      <td>NaN</td>\n",
              "    </tr>\n",
              "    <tr>\n",
              "      <th>22547</th>\n",
              "      <td>53238</td>\n",
              "      <td>Charles Jacobus</td>\n",
              "      <td>M</td>\n",
              "      <td>64.0</td>\n",
              "      <td>NaN</td>\n",
              "      <td>NaN</td>\n",
              "      <td>United States</td>\n",
              "      <td>USA</td>\n",
              "      <td>1904 Summer</td>\n",
              "      <td>1904</td>\n",
              "      <td>Summer</td>\n",
              "      <td>St. Louis</td>\n",
              "      <td>Roque</td>\n",
              "      <td>Roque Men's Singles</td>\n",
              "      <td>Gold</td>\n",
              "      <td>USA</td>\n",
              "      <td>NaN</td>\n",
              "    </tr>\n",
              "  </tbody>\n",
              "</table>\n",
              "</div>\n",
              "      <button class=\"colab-df-convert\" onclick=\"convertToInteractive('df-fde02922-91fe-49ab-b9a6-9ac09759f878')\"\n",
              "              title=\"Convert this dataframe to an interactive table.\"\n",
              "              style=\"display:none;\">\n",
              "        \n",
              "  <svg xmlns=\"http://www.w3.org/2000/svg\" height=\"24px\"viewBox=\"0 0 24 24\"\n",
              "       width=\"24px\">\n",
              "    <path d=\"M0 0h24v24H0V0z\" fill=\"none\"/>\n",
              "    <path d=\"M18.56 5.44l.94 2.06.94-2.06 2.06-.94-2.06-.94-.94-2.06-.94 2.06-2.06.94zm-11 1L8.5 8.5l.94-2.06 2.06-.94-2.06-.94L8.5 2.5l-.94 2.06-2.06.94zm10 10l.94 2.06.94-2.06 2.06-.94-2.06-.94-.94-2.06-.94 2.06-2.06.94z\"/><path d=\"M17.41 7.96l-1.37-1.37c-.4-.4-.92-.59-1.43-.59-.52 0-1.04.2-1.43.59L10.3 9.45l-7.72 7.72c-.78.78-.78 2.05 0 2.83L4 21.41c.39.39.9.59 1.41.59.51 0 1.02-.2 1.41-.59l7.78-7.78 2.81-2.81c.8-.78.8-2.07 0-2.86zM5.41 20L4 18.59l7.72-7.72 1.47 1.35L5.41 20z\"/>\n",
              "  </svg>\n",
              "      </button>\n",
              "      \n",
              "  <style>\n",
              "    .colab-df-container {\n",
              "      display:flex;\n",
              "      flex-wrap:wrap;\n",
              "      gap: 12px;\n",
              "    }\n",
              "\n",
              "    .colab-df-convert {\n",
              "      background-color: #E8F0FE;\n",
              "      border: none;\n",
              "      border-radius: 50%;\n",
              "      cursor: pointer;\n",
              "      display: none;\n",
              "      fill: #1967D2;\n",
              "      height: 32px;\n",
              "      padding: 0 0 0 0;\n",
              "      width: 32px;\n",
              "    }\n",
              "\n",
              "    .colab-df-convert:hover {\n",
              "      background-color: #E2EBFA;\n",
              "      box-shadow: 0px 1px 2px rgba(60, 64, 67, 0.3), 0px 1px 3px 1px rgba(60, 64, 67, 0.15);\n",
              "      fill: #174EA6;\n",
              "    }\n",
              "\n",
              "    [theme=dark] .colab-df-convert {\n",
              "      background-color: #3B4455;\n",
              "      fill: #D2E3FC;\n",
              "    }\n",
              "\n",
              "    [theme=dark] .colab-df-convert:hover {\n",
              "      background-color: #434B5C;\n",
              "      box-shadow: 0px 1px 3px 1px rgba(0, 0, 0, 0.15);\n",
              "      filter: drop-shadow(0px 1px 2px rgba(0, 0, 0, 0.3));\n",
              "      fill: #FFFFFF;\n",
              "    }\n",
              "  </style>\n",
              "\n",
              "      <script>\n",
              "        const buttonEl =\n",
              "          document.querySelector('#df-fde02922-91fe-49ab-b9a6-9ac09759f878 button.colab-df-convert');\n",
              "        buttonEl.style.display =\n",
              "          google.colab.kernel.accessAllowed ? 'block' : 'none';\n",
              "\n",
              "        async function convertToInteractive(key) {\n",
              "          const element = document.querySelector('#df-fde02922-91fe-49ab-b9a6-9ac09759f878');\n",
              "          const dataTable =\n",
              "            await google.colab.kernel.invokeFunction('convertToInteractive',\n",
              "                                                     [key], {});\n",
              "          if (!dataTable) return;\n",
              "\n",
              "          const docLinkHtml = 'Like what you see? Visit the ' +\n",
              "            '<a target=\"_blank\" href=https://colab.research.google.com/notebooks/data_table.ipynb>data table notebook</a>'\n",
              "            + ' to learn more about interactive tables.';\n",
              "          element.innerHTML = '';\n",
              "          dataTable['output_type'] = 'display_data';\n",
              "          await google.colab.output.renderOutput(dataTable, element);\n",
              "          const docLink = document.createElement('div');\n",
              "          docLink.innerHTML = docLinkHtml;\n",
              "          element.appendChild(docLink);\n",
              "        }\n",
              "      </script>\n",
              "    </div>\n",
              "  </div>\n",
              "  "
            ],
            "text/plain": [
              "           ID                             Name Sex   Age  Height  Weight  \\\n",
              "7391    85949             Anders Peter Nielsen   M  52.0     NaN     NaN   \n",
              "10718   52626             Isaac Lazarus Israls   M  63.0     NaN     NaN   \n",
              "12975  124220  Hendrikus \"Driekske\" van Bussel   M  51.0     NaN     NaN   \n",
              "19305   32591            Everard Coenraad Endt   M  59.0     NaN     NaN   \n",
              "22547   53238                  Charles Jacobus   M  64.0     NaN     NaN   \n",
              "\n",
              "                Team  NOC        Games  Year  Season       City  \\\n",
              "7391         Denmark  DEN  1920 Summer  1920  Summer  Antwerpen   \n",
              "10718    Netherlands  NED  1928 Summer  1928  Summer  Amsterdam   \n",
              "12975    Netherlands  NED  1920 Summer  1920  Summer  Antwerpen   \n",
              "19305       Llanoria  USA  1952 Summer  1952  Summer   Helsinki   \n",
              "22547  United States  USA  1904 Summer  1904  Summer  St. Louis   \n",
              "\n",
              "                  Sport                                              Event  \\\n",
              "7391           Shooting  Shooting Men's Military Rifle, Standing, 300 m...   \n",
              "10718  Art Competitions         Art Competitions Mixed Painting, Paintings   \n",
              "12975           Archery      Archery Men's Target Archery, 28 metres, Team   \n",
              "19305           Sailing                             Sailing Mixed 6 metres   \n",
              "22547             Roque                                Roque Men's Singles   \n",
              "\n",
              "      Medal       region notes  \n",
              "7391   Gold      Denmark   NaN  \n",
              "10718  Gold  Netherlands   NaN  \n",
              "12975  Gold  Netherlands   NaN  \n",
              "19305  Gold          USA   NaN  \n",
              "22547  Gold          USA   NaN  "
            ]
          },
          "execution_count": 43,
          "metadata": {},
          "output_type": "execute_result"
        }
      ],
      "source": [
        "df_old_age =df_merged_gold.loc[(df_merged_gold['Age']>50)].head(5)\n",
        "df_old_age"
      ]
    },
    {
      "cell_type": "markdown",
      "metadata": {
        "id": "8Be7_FIMXvtI"
      },
      "source": [
        "2.4 Women who can play in summer"
      ]
    },
    {
      "cell_type": "code",
      "execution_count": null,
      "metadata": {
        "colab": {
          "base_uri": "https://localhost:8080/",
          "height": 337
        },
        "id": "vT5cKIqAXzrX",
        "outputId": "e15f8af5-b3f3-40f7-fa67-0d137d814246"
      },
      "outputs": [
        {
          "data": {
            "text/html": [
              "\n",
              "  <div id=\"df-6fcdc45e-1e7f-4e91-9e43-40b349833fd2\">\n",
              "    <div class=\"colab-df-container\">\n",
              "      <div>\n",
              "<style scoped>\n",
              "    .dataframe tbody tr th:only-of-type {\n",
              "        vertical-align: middle;\n",
              "    }\n",
              "\n",
              "    .dataframe tbody tr th {\n",
              "        vertical-align: top;\n",
              "    }\n",
              "\n",
              "    .dataframe thead th {\n",
              "        text-align: right;\n",
              "    }\n",
              "</style>\n",
              "<table border=\"1\" class=\"dataframe\">\n",
              "  <thead>\n",
              "    <tr style=\"text-align: right;\">\n",
              "      <th></th>\n",
              "      <th>ID</th>\n",
              "      <th>Name</th>\n",
              "      <th>Sex</th>\n",
              "      <th>Age</th>\n",
              "      <th>Height</th>\n",
              "      <th>Weight</th>\n",
              "      <th>Team</th>\n",
              "      <th>NOC</th>\n",
              "      <th>Games</th>\n",
              "      <th>Year</th>\n",
              "      <th>Season</th>\n",
              "      <th>City</th>\n",
              "      <th>Sport</th>\n",
              "      <th>Event</th>\n",
              "      <th>Medal</th>\n",
              "      <th>region</th>\n",
              "      <th>notes</th>\n",
              "    </tr>\n",
              "  </thead>\n",
              "  <tbody>\n",
              "    <tr>\n",
              "      <th>4</th>\n",
              "      <td>1464</td>\n",
              "      <td>Ai Yanhan</td>\n",
              "      <td>F</td>\n",
              "      <td>14.0</td>\n",
              "      <td>168.0</td>\n",
              "      <td>54.0</td>\n",
              "      <td>China</td>\n",
              "      <td>CHN</td>\n",
              "      <td>2016 Summer</td>\n",
              "      <td>2016</td>\n",
              "      <td>Summer</td>\n",
              "      <td>Rio de Janeiro</td>\n",
              "      <td>Swimming</td>\n",
              "      <td>Swimming Women's 200 metres Freestyle</td>\n",
              "      <td>NaN</td>\n",
              "      <td>China</td>\n",
              "      <td>NaN</td>\n",
              "    </tr>\n",
              "    <tr>\n",
              "      <th>5</th>\n",
              "      <td>1464</td>\n",
              "      <td>Ai Yanhan</td>\n",
              "      <td>F</td>\n",
              "      <td>14.0</td>\n",
              "      <td>168.0</td>\n",
              "      <td>54.0</td>\n",
              "      <td>China</td>\n",
              "      <td>CHN</td>\n",
              "      <td>2016 Summer</td>\n",
              "      <td>2016</td>\n",
              "      <td>Summer</td>\n",
              "      <td>Rio de Janeiro</td>\n",
              "      <td>Swimming</td>\n",
              "      <td>Swimming Women's 4 x 200 metres Freestyle Relay</td>\n",
              "      <td>NaN</td>\n",
              "      <td>China</td>\n",
              "      <td>NaN</td>\n",
              "    </tr>\n",
              "    <tr>\n",
              "      <th>12</th>\n",
              "      <td>3611</td>\n",
              "      <td>An Zhongxin</td>\n",
              "      <td>F</td>\n",
              "      <td>23.0</td>\n",
              "      <td>170.0</td>\n",
              "      <td>65.0</td>\n",
              "      <td>China</td>\n",
              "      <td>CHN</td>\n",
              "      <td>1996 Summer</td>\n",
              "      <td>1996</td>\n",
              "      <td>Summer</td>\n",
              "      <td>Atlanta</td>\n",
              "      <td>Softball</td>\n",
              "      <td>Softball Women's Softball</td>\n",
              "      <td>Silver</td>\n",
              "      <td>China</td>\n",
              "      <td>NaN</td>\n",
              "    </tr>\n",
              "    <tr>\n",
              "      <th>13</th>\n",
              "      <td>3611</td>\n",
              "      <td>An Zhongxin</td>\n",
              "      <td>F</td>\n",
              "      <td>27.0</td>\n",
              "      <td>170.0</td>\n",
              "      <td>65.0</td>\n",
              "      <td>China</td>\n",
              "      <td>CHN</td>\n",
              "      <td>2000 Summer</td>\n",
              "      <td>2000</td>\n",
              "      <td>Summer</td>\n",
              "      <td>Sydney</td>\n",
              "      <td>Softball</td>\n",
              "      <td>Softball Women's Softball</td>\n",
              "      <td>NaN</td>\n",
              "      <td>China</td>\n",
              "      <td>NaN</td>\n",
              "    </tr>\n",
              "    <tr>\n",
              "      <th>17</th>\n",
              "      <td>6381</td>\n",
              "      <td>Ba Yan</td>\n",
              "      <td>F</td>\n",
              "      <td>21.0</td>\n",
              "      <td>183.0</td>\n",
              "      <td>78.0</td>\n",
              "      <td>China</td>\n",
              "      <td>CHN</td>\n",
              "      <td>1984 Summer</td>\n",
              "      <td>1984</td>\n",
              "      <td>Summer</td>\n",
              "      <td>Los Angeles</td>\n",
              "      <td>Basketball</td>\n",
              "      <td>Basketball Women's Basketball</td>\n",
              "      <td>Bronze</td>\n",
              "      <td>China</td>\n",
              "      <td>NaN</td>\n",
              "    </tr>\n",
              "  </tbody>\n",
              "</table>\n",
              "</div>\n",
              "      <button class=\"colab-df-convert\" onclick=\"convertToInteractive('df-6fcdc45e-1e7f-4e91-9e43-40b349833fd2')\"\n",
              "              title=\"Convert this dataframe to an interactive table.\"\n",
              "              style=\"display:none;\">\n",
              "        \n",
              "  <svg xmlns=\"http://www.w3.org/2000/svg\" height=\"24px\"viewBox=\"0 0 24 24\"\n",
              "       width=\"24px\">\n",
              "    <path d=\"M0 0h24v24H0V0z\" fill=\"none\"/>\n",
              "    <path d=\"M18.56 5.44l.94 2.06.94-2.06 2.06-.94-2.06-.94-.94-2.06-.94 2.06-2.06.94zm-11 1L8.5 8.5l.94-2.06 2.06-.94-2.06-.94L8.5 2.5l-.94 2.06-2.06.94zm10 10l.94 2.06.94-2.06 2.06-.94-2.06-.94-.94-2.06-.94 2.06-2.06.94z\"/><path d=\"M17.41 7.96l-1.37-1.37c-.4-.4-.92-.59-1.43-.59-.52 0-1.04.2-1.43.59L10.3 9.45l-7.72 7.72c-.78.78-.78 2.05 0 2.83L4 21.41c.39.39.9.59 1.41.59.51 0 1.02-.2 1.41-.59l7.78-7.78 2.81-2.81c.8-.78.8-2.07 0-2.86zM5.41 20L4 18.59l7.72-7.72 1.47 1.35L5.41 20z\"/>\n",
              "  </svg>\n",
              "      </button>\n",
              "      \n",
              "  <style>\n",
              "    .colab-df-container {\n",
              "      display:flex;\n",
              "      flex-wrap:wrap;\n",
              "      gap: 12px;\n",
              "    }\n",
              "\n",
              "    .colab-df-convert {\n",
              "      background-color: #E8F0FE;\n",
              "      border: none;\n",
              "      border-radius: 50%;\n",
              "      cursor: pointer;\n",
              "      display: none;\n",
              "      fill: #1967D2;\n",
              "      height: 32px;\n",
              "      padding: 0 0 0 0;\n",
              "      width: 32px;\n",
              "    }\n",
              "\n",
              "    .colab-df-convert:hover {\n",
              "      background-color: #E2EBFA;\n",
              "      box-shadow: 0px 1px 2px rgba(60, 64, 67, 0.3), 0px 1px 3px 1px rgba(60, 64, 67, 0.15);\n",
              "      fill: #174EA6;\n",
              "    }\n",
              "\n",
              "    [theme=dark] .colab-df-convert {\n",
              "      background-color: #3B4455;\n",
              "      fill: #D2E3FC;\n",
              "    }\n",
              "\n",
              "    [theme=dark] .colab-df-convert:hover {\n",
              "      background-color: #434B5C;\n",
              "      box-shadow: 0px 1px 3px 1px rgba(0, 0, 0, 0.15);\n",
              "      filter: drop-shadow(0px 1px 2px rgba(0, 0, 0, 0.3));\n",
              "      fill: #FFFFFF;\n",
              "    }\n",
              "  </style>\n",
              "\n",
              "      <script>\n",
              "        const buttonEl =\n",
              "          document.querySelector('#df-6fcdc45e-1e7f-4e91-9e43-40b349833fd2 button.colab-df-convert');\n",
              "        buttonEl.style.display =\n",
              "          google.colab.kernel.accessAllowed ? 'block' : 'none';\n",
              "\n",
              "        async function convertToInteractive(key) {\n",
              "          const element = document.querySelector('#df-6fcdc45e-1e7f-4e91-9e43-40b349833fd2');\n",
              "          const dataTable =\n",
              "            await google.colab.kernel.invokeFunction('convertToInteractive',\n",
              "                                                     [key], {});\n",
              "          if (!dataTable) return;\n",
              "\n",
              "          const docLinkHtml = 'Like what you see? Visit the ' +\n",
              "            '<a target=\"_blank\" href=https://colab.research.google.com/notebooks/data_table.ipynb>data table notebook</a>'\n",
              "            + ' to learn more about interactive tables.';\n",
              "          element.innerHTML = '';\n",
              "          dataTable['output_type'] = 'display_data';\n",
              "          await google.colab.output.renderOutput(dataTable, element);\n",
              "          const docLink = document.createElement('div');\n",
              "          docLink.innerHTML = docLinkHtml;\n",
              "          element.appendChild(docLink);\n",
              "        }\n",
              "      </script>\n",
              "    </div>\n",
              "  </div>\n",
              "  "
            ],
            "text/plain": [
              "      ID         Name Sex   Age  Height  Weight   Team  NOC        Games  \\\n",
              "4   1464    Ai Yanhan   F  14.0   168.0    54.0  China  CHN  2016 Summer   \n",
              "5   1464    Ai Yanhan   F  14.0   168.0    54.0  China  CHN  2016 Summer   \n",
              "12  3611  An Zhongxin   F  23.0   170.0    65.0  China  CHN  1996 Summer   \n",
              "13  3611  An Zhongxin   F  27.0   170.0    65.0  China  CHN  2000 Summer   \n",
              "17  6381       Ba Yan   F  21.0   183.0    78.0  China  CHN  1984 Summer   \n",
              "\n",
              "    Year  Season            City       Sport  \\\n",
              "4   2016  Summer  Rio de Janeiro    Swimming   \n",
              "5   2016  Summer  Rio de Janeiro    Swimming   \n",
              "12  1996  Summer         Atlanta    Softball   \n",
              "13  2000  Summer          Sydney    Softball   \n",
              "17  1984  Summer     Los Angeles  Basketball   \n",
              "\n",
              "                                              Event   Medal region notes  \n",
              "4             Swimming Women's 200 metres Freestyle     NaN  China   NaN  \n",
              "5   Swimming Women's 4 x 200 metres Freestyle Relay     NaN  China   NaN  \n",
              "12                        Softball Women's Softball  Silver  China   NaN  \n",
              "13                        Softball Women's Softball     NaN  China   NaN  \n",
              "17                    Basketball Women's Basketball  Bronze  China   NaN  "
            ]
          },
          "execution_count": 44,
          "metadata": {},
          "output_type": "execute_result"
        }
      ],
      "source": [
        "df_merged_summer=df_merged_athlets.loc[(df_merged_athlets['Season']=='Summer')]\n",
        "df_merged_summer.loc[(df_merged_summer['Sex']=='F')].head(5)"
      ]
    },
    {
      "cell_type": "markdown",
      "metadata": {
        "id": "s9Fv2a9QXz0J"
      },
      "source": [
        "2.5 Display the top 5 countries who won the most medals. Support your answer with suitable\n",
        "               plot.\n"
      ]
    },
    {
      "cell_type": "code",
      "execution_count": null,
      "metadata": {
        "id": "S4_kVYX1B-Bb"
      },
      "outputs": [],
      "source": [
        "df_values= df_merged_athlets.dropna (axis=0)"
      ]
    },
    {
      "cell_type": "code",
      "execution_count": null,
      "metadata": {
        "colab": {
          "base_uri": "https://localhost:8080/",
          "height": 410
        },
        "id": "YHttWR7KX3M4",
        "outputId": "f83bdc7b-fe92-4288-f2f8-57ccbd2e59a0"
      },
      "outputs": [
        {
          "data": {
            "image/png": "[encoded data removed]",
            "text/plain": [
              "<Figure size 432x288 with 1 Axes>"
            ]
          },
          "metadata": {
            "needs_background": "light"
          },
          "output_type": "display_data"
        }
      ],
      "source": [
        "ee=sns.countplot(x='region',data=df_values)\n",
        "for a in ee.patches:\n",
        "  ee.annotate('{:.1f}'.format(a.get_height()), (a.get_x()+.5, a.get_height()+2))\n",
        "  ee.set_xticklabels (ee.get_xticklabels (), rotation = 80)\n",
        "plt.show()\n"
      ]
    },
    {
      "cell_type": "markdown",
      "metadata": {
        "id": "HHK3ITSmvPaf"
      },
      "source": [
        "**Top 5 countries who won the most medals**\n",
        "1. Serbia\n",
        "2. Trinidad\n",
        "3. Individual Olympic Athletes\n",
        "4. Australia\n",
        "5. China"
      ]
    }
  ],
  "metadata": {
    "colab": {
      "provenance": []
    },
    "kernelspec": {
      "display_name": "Python 3",
      "name": "python3"
    },
    "language_info": {
      "codemirror_mode": {
        "name": "ipython",
        "version": 3
      },
      "file_extension": ".py",
      "mimetype": "text/x-python",
      "name": "python",
      "nbconvert_exporter": "python",
      "pygments_lexer": "ipython3",
      "version": "3.12.4"
    }
  },
  "nbformat": 4,
  "nbformat_minor": 0
}
